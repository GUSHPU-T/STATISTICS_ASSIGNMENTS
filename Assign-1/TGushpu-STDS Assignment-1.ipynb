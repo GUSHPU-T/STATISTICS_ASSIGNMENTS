{
 "cells": [
  {
   "cell_type": "code",
   "execution_count": 1,
   "id": "744068c7",
   "metadata": {},
   "outputs": [],
   "source": [
    "import numpy as np\n",
    "import pandas as pd\n",
    "import scipy.stats as st\n",
    "import statsmodels.stats as stm\n",
    "import matplotlib.pyplot as plt\n",
    "import seaborn as sns"
   ]
  },
  {
   "cell_type": "code",
   "execution_count": 2,
   "id": "0d113b1f",
   "metadata": {},
   "outputs": [
    {
     "data": {
      "text/html": [
       "<div>\n",
       "<style scoped>\n",
       "    .dataframe tbody tr th:only-of-type {\n",
       "        vertical-align: middle;\n",
       "    }\n",
       "\n",
       "    .dataframe tbody tr th {\n",
       "        vertical-align: top;\n",
       "    }\n",
       "\n",
       "    .dataframe thead th {\n",
       "        text-align: right;\n",
       "    }\n",
       "</style>\n",
       "<table border=\"1\" class=\"dataframe\">\n",
       "  <thead>\n",
       "    <tr style=\"text-align: right;\">\n",
       "      <th></th>\n",
       "      <th>customerID</th>\n",
       "      <th>gender</th>\n",
       "      <th>SeniorCitizen</th>\n",
       "      <th>Partner</th>\n",
       "      <th>Dependents</th>\n",
       "      <th>tenure</th>\n",
       "      <th>PhoneService</th>\n",
       "      <th>OnlineBackup</th>\n",
       "      <th>TechSupport</th>\n",
       "      <th>StreamingTV</th>\n",
       "      <th>Contract</th>\n",
       "      <th>PaperlessBilling</th>\n",
       "      <th>PaymentMethod</th>\n",
       "      <th>MonthlyCharges</th>\n",
       "      <th>Churn</th>\n",
       "    </tr>\n",
       "  </thead>\n",
       "  <tbody>\n",
       "    <tr>\n",
       "      <th>0</th>\n",
       "      <td>7590-VHVEG</td>\n",
       "      <td>Female</td>\n",
       "      <td>0</td>\n",
       "      <td>Yes</td>\n",
       "      <td>No</td>\n",
       "      <td>1</td>\n",
       "      <td>No</td>\n",
       "      <td>Yes</td>\n",
       "      <td>No</td>\n",
       "      <td>No</td>\n",
       "      <td>Month-to-month</td>\n",
       "      <td>Yes</td>\n",
       "      <td>Electronic check</td>\n",
       "      <td>29.85</td>\n",
       "      <td>No</td>\n",
       "    </tr>\n",
       "    <tr>\n",
       "      <th>1</th>\n",
       "      <td>5575-GNVDE</td>\n",
       "      <td>Male</td>\n",
       "      <td>0</td>\n",
       "      <td>No</td>\n",
       "      <td>No</td>\n",
       "      <td>34</td>\n",
       "      <td>Yes</td>\n",
       "      <td>No</td>\n",
       "      <td>No</td>\n",
       "      <td>No</td>\n",
       "      <td>One year</td>\n",
       "      <td>No</td>\n",
       "      <td>Mailed check</td>\n",
       "      <td>56.95</td>\n",
       "      <td>No</td>\n",
       "    </tr>\n",
       "    <tr>\n",
       "      <th>2</th>\n",
       "      <td>3668-QPYBK</td>\n",
       "      <td>Male</td>\n",
       "      <td>0</td>\n",
       "      <td>No</td>\n",
       "      <td>No</td>\n",
       "      <td>2</td>\n",
       "      <td>Yes</td>\n",
       "      <td>Yes</td>\n",
       "      <td>No</td>\n",
       "      <td>No</td>\n",
       "      <td>Month-to-month</td>\n",
       "      <td>Yes</td>\n",
       "      <td>Mailed check</td>\n",
       "      <td>53.85</td>\n",
       "      <td>Yes</td>\n",
       "    </tr>\n",
       "    <tr>\n",
       "      <th>3</th>\n",
       "      <td>7795-CFOCW</td>\n",
       "      <td>Male</td>\n",
       "      <td>0</td>\n",
       "      <td>No</td>\n",
       "      <td>No</td>\n",
       "      <td>45</td>\n",
       "      <td>No</td>\n",
       "      <td>No</td>\n",
       "      <td>Yes</td>\n",
       "      <td>No</td>\n",
       "      <td>One year</td>\n",
       "      <td>No</td>\n",
       "      <td>Bank transfer (automatic)</td>\n",
       "      <td>42.30</td>\n",
       "      <td>No</td>\n",
       "    </tr>\n",
       "    <tr>\n",
       "      <th>4</th>\n",
       "      <td>9237-HQITU</td>\n",
       "      <td>Female</td>\n",
       "      <td>0</td>\n",
       "      <td>No</td>\n",
       "      <td>No</td>\n",
       "      <td>2</td>\n",
       "      <td>Yes</td>\n",
       "      <td>No</td>\n",
       "      <td>No</td>\n",
       "      <td>No</td>\n",
       "      <td>Month-to-month</td>\n",
       "      <td>Yes</td>\n",
       "      <td>Electronic check</td>\n",
       "      <td>70.70</td>\n",
       "      <td>Yes</td>\n",
       "    </tr>\n",
       "    <tr>\n",
       "      <th>...</th>\n",
       "      <td>...</td>\n",
       "      <td>...</td>\n",
       "      <td>...</td>\n",
       "      <td>...</td>\n",
       "      <td>...</td>\n",
       "      <td>...</td>\n",
       "      <td>...</td>\n",
       "      <td>...</td>\n",
       "      <td>...</td>\n",
       "      <td>...</td>\n",
       "      <td>...</td>\n",
       "      <td>...</td>\n",
       "      <td>...</td>\n",
       "      <td>...</td>\n",
       "      <td>...</td>\n",
       "    </tr>\n",
       "    <tr>\n",
       "      <th>7038</th>\n",
       "      <td>6840-RESVB</td>\n",
       "      <td>Male</td>\n",
       "      <td>0</td>\n",
       "      <td>Yes</td>\n",
       "      <td>Yes</td>\n",
       "      <td>24</td>\n",
       "      <td>Yes</td>\n",
       "      <td>No</td>\n",
       "      <td>Yes</td>\n",
       "      <td>Yes</td>\n",
       "      <td>One year</td>\n",
       "      <td>Yes</td>\n",
       "      <td>Mailed check</td>\n",
       "      <td>84.80</td>\n",
       "      <td>No</td>\n",
       "    </tr>\n",
       "    <tr>\n",
       "      <th>7039</th>\n",
       "      <td>2234-XADUH</td>\n",
       "      <td>Female</td>\n",
       "      <td>0</td>\n",
       "      <td>Yes</td>\n",
       "      <td>Yes</td>\n",
       "      <td>72</td>\n",
       "      <td>Yes</td>\n",
       "      <td>Yes</td>\n",
       "      <td>No</td>\n",
       "      <td>Yes</td>\n",
       "      <td>One year</td>\n",
       "      <td>Yes</td>\n",
       "      <td>Credit card (automatic)</td>\n",
       "      <td>103.20</td>\n",
       "      <td>No</td>\n",
       "    </tr>\n",
       "    <tr>\n",
       "      <th>7040</th>\n",
       "      <td>4801-JZAZL</td>\n",
       "      <td>Female</td>\n",
       "      <td>0</td>\n",
       "      <td>Yes</td>\n",
       "      <td>Yes</td>\n",
       "      <td>11</td>\n",
       "      <td>No</td>\n",
       "      <td>No</td>\n",
       "      <td>No</td>\n",
       "      <td>No</td>\n",
       "      <td>Month-to-month</td>\n",
       "      <td>Yes</td>\n",
       "      <td>Electronic check</td>\n",
       "      <td>29.60</td>\n",
       "      <td>No</td>\n",
       "    </tr>\n",
       "    <tr>\n",
       "      <th>7041</th>\n",
       "      <td>8361-LTMKD</td>\n",
       "      <td>Male</td>\n",
       "      <td>1</td>\n",
       "      <td>Yes</td>\n",
       "      <td>No</td>\n",
       "      <td>4</td>\n",
       "      <td>Yes</td>\n",
       "      <td>No</td>\n",
       "      <td>No</td>\n",
       "      <td>No</td>\n",
       "      <td>Month-to-month</td>\n",
       "      <td>Yes</td>\n",
       "      <td>Mailed check</td>\n",
       "      <td>74.40</td>\n",
       "      <td>Yes</td>\n",
       "    </tr>\n",
       "    <tr>\n",
       "      <th>7042</th>\n",
       "      <td>3186-AJIEK</td>\n",
       "      <td>Male</td>\n",
       "      <td>0</td>\n",
       "      <td>No</td>\n",
       "      <td>No</td>\n",
       "      <td>66</td>\n",
       "      <td>Yes</td>\n",
       "      <td>No</td>\n",
       "      <td>Yes</td>\n",
       "      <td>Yes</td>\n",
       "      <td>Two year</td>\n",
       "      <td>Yes</td>\n",
       "      <td>Bank transfer (automatic)</td>\n",
       "      <td>105.65</td>\n",
       "      <td>No</td>\n",
       "    </tr>\n",
       "  </tbody>\n",
       "</table>\n",
       "<p>7043 rows × 15 columns</p>\n",
       "</div>"
      ],
      "text/plain": [
       "      customerID  gender  SeniorCitizen Partner Dependents  tenure  \\\n",
       "0     7590-VHVEG  Female              0     Yes         No       1   \n",
       "1     5575-GNVDE    Male              0      No         No      34   \n",
       "2     3668-QPYBK    Male              0      No         No       2   \n",
       "3     7795-CFOCW    Male              0      No         No      45   \n",
       "4     9237-HQITU  Female              0      No         No       2   \n",
       "...          ...     ...            ...     ...        ...     ...   \n",
       "7038  6840-RESVB    Male              0     Yes        Yes      24   \n",
       "7039  2234-XADUH  Female              0     Yes        Yes      72   \n",
       "7040  4801-JZAZL  Female              0     Yes        Yes      11   \n",
       "7041  8361-LTMKD    Male              1     Yes         No       4   \n",
       "7042  3186-AJIEK    Male              0      No         No      66   \n",
       "\n",
       "     PhoneService OnlineBackup TechSupport StreamingTV        Contract  \\\n",
       "0              No          Yes          No          No  Month-to-month   \n",
       "1             Yes           No          No          No        One year   \n",
       "2             Yes          Yes          No          No  Month-to-month   \n",
       "3              No           No         Yes          No        One year   \n",
       "4             Yes           No          No          No  Month-to-month   \n",
       "...           ...          ...         ...         ...             ...   \n",
       "7038          Yes           No         Yes         Yes        One year   \n",
       "7039          Yes          Yes          No         Yes        One year   \n",
       "7040           No           No          No          No  Month-to-month   \n",
       "7041          Yes           No          No          No  Month-to-month   \n",
       "7042          Yes           No         Yes         Yes        Two year   \n",
       "\n",
       "     PaperlessBilling              PaymentMethod  MonthlyCharges Churn  \n",
       "0                 Yes           Electronic check           29.85    No  \n",
       "1                  No               Mailed check           56.95    No  \n",
       "2                 Yes               Mailed check           53.85   Yes  \n",
       "3                  No  Bank transfer (automatic)           42.30    No  \n",
       "4                 Yes           Electronic check           70.70   Yes  \n",
       "...               ...                        ...             ...   ...  \n",
       "7038              Yes               Mailed check           84.80    No  \n",
       "7039              Yes    Credit card (automatic)          103.20    No  \n",
       "7040              Yes           Electronic check           29.60    No  \n",
       "7041              Yes               Mailed check           74.40   Yes  \n",
       "7042              Yes  Bank transfer (automatic)          105.65    No  \n",
       "\n",
       "[7043 rows x 15 columns]"
      ]
     },
     "execution_count": 2,
     "metadata": {},
     "output_type": "execute_result"
    }
   ],
   "source": [
    "data=pd.read_excel(r\"C:\\Users\\kushp\\Downloads\\Stats_assignment_1.xlsx\")\n",
    "data"
   ]
  },
  {
   "cell_type": "code",
   "execution_count": 21,
   "id": "52cf0d8d",
   "metadata": {},
   "outputs": [
    {
     "data": {
      "text/plain": [
       "<bound method DataFrame.info of       customerID  gender  SeniorCitizen Partner Dependents  tenure  \\\n",
       "0     7590-VHVEG  Female              0     Yes         No       1   \n",
       "1     5575-GNVDE    Male              0      No         No      34   \n",
       "2     3668-QPYBK    Male              0      No         No       2   \n",
       "3     7795-CFOCW    Male              0      No         No      45   \n",
       "4     9237-HQITU  Female              0      No         No       2   \n",
       "...          ...     ...            ...     ...        ...     ...   \n",
       "7038  6840-RESVB    Male              0     Yes        Yes      24   \n",
       "7039  2234-XADUH  Female              0     Yes        Yes      72   \n",
       "7040  4801-JZAZL  Female              0     Yes        Yes      11   \n",
       "7041  8361-LTMKD    Male              1     Yes         No       4   \n",
       "7042  3186-AJIEK    Male              0      No         No      66   \n",
       "\n",
       "     PhoneService OnlineBackup TechSupport StreamingTV        Contract  \\\n",
       "0              No          Yes          No          No  Month-to-month   \n",
       "1             Yes           No          No          No        One year   \n",
       "2             Yes          Yes          No          No  Month-to-month   \n",
       "3              No           No         Yes          No        One year   \n",
       "4             Yes           No          No          No  Month-to-month   \n",
       "...           ...          ...         ...         ...             ...   \n",
       "7038          Yes           No         Yes         Yes        One year   \n",
       "7039          Yes          Yes          No         Yes        One year   \n",
       "7040           No           No          No          No  Month-to-month   \n",
       "7041          Yes           No          No          No  Month-to-month   \n",
       "7042          Yes           No         Yes         Yes        Two year   \n",
       "\n",
       "     PaperlessBilling              PaymentMethod  MonthlyCharges Churn  \n",
       "0                 Yes           Electronic check           29.85    No  \n",
       "1                  No               Mailed check           56.95    No  \n",
       "2                 Yes               Mailed check           53.85   Yes  \n",
       "3                  No  Bank transfer (automatic)           42.30    No  \n",
       "4                 Yes           Electronic check           70.70   Yes  \n",
       "...               ...                        ...             ...   ...  \n",
       "7038              Yes               Mailed check           84.80    No  \n",
       "7039              Yes    Credit card (automatic)          103.20    No  \n",
       "7040              Yes           Electronic check           29.60    No  \n",
       "7041              Yes               Mailed check           74.40   Yes  \n",
       "7042              Yes  Bank transfer (automatic)          105.65    No  \n",
       "\n",
       "[7043 rows x 15 columns]>"
      ]
     },
     "execution_count": 21,
     "metadata": {},
     "output_type": "execute_result"
    }
   ],
   "source": [
    "data.info"
   ]
  },
  {
   "cell_type": "markdown",
   "id": "b779764c",
   "metadata": {},
   "source": [
    "The provided dataset consists of the informations below:\n",
    "\n",
    "1.Demographic information about customers includes gender.\n",
    "\n",
    "2.Customer account information including the number of months staying with the company, tenure, paperless billing, payment method and monthly charges.\n",
    "\n",
    "3.Customer usage behavior as streaming TV.\n",
    "\n",
    "4.Services that the customer signed up for: phone service,online backup and tech support.\n",
    "\n",
    "5.Customer churn where the customer left within the last month."
   ]
  },
  {
   "cell_type": "markdown",
   "id": "805cdfcd",
   "metadata": {},
   "source": [
    " CATEGORICAL DATA:\n",
    " \n",
    "-Customer ID\n",
    "    \n",
    "-Gender\n",
    "\n",
    "-Senior Citizen\n",
    "    \n",
    "-Partner\n",
    " \n",
    "-Dependents\n",
    "    \n",
    "-PhoneService\n",
    "    \n",
    "-OnlineBackup\n",
    "    \n",
    "-TechSuppot\n",
    "    \n",
    "-Contract\n",
    "    \n",
    "-PaperlessBilling\n",
    "    \n",
    "-PaymentMethod\n",
    "    \n",
    "-Churn\n",
    "\n",
    "NUMERICAL DATA:\n",
    "     \n",
    "-Tenure\n",
    "     \n",
    "-MonthlyCharges"
   ]
  },
  {
   "cell_type": "code",
   "execution_count": 3,
   "id": "5cab57f5",
   "metadata": {},
   "outputs": [
    {
     "name": "stdout",
     "output_type": "stream",
     "text": [
      "<class 'pandas.core.frame.DataFrame'>\n",
      "RangeIndex: 7043 entries, 0 to 7042\n",
      "Data columns (total 15 columns):\n",
      " #   Column            Non-Null Count  Dtype  \n",
      "---  ------            --------------  -----  \n",
      " 0   customerID        7043 non-null   object \n",
      " 1   gender            7043 non-null   object \n",
      " 2   SeniorCitizen     7043 non-null   int64  \n",
      " 3   Partner           7043 non-null   object \n",
      " 4   Dependents        7043 non-null   object \n",
      " 5   tenure            7043 non-null   int64  \n",
      " 6   PhoneService      7043 non-null   object \n",
      " 7   OnlineBackup      7043 non-null   object \n",
      " 8   TechSupport       7043 non-null   object \n",
      " 9   StreamingTV       7043 non-null   object \n",
      " 10  Contract          7043 non-null   object \n",
      " 11  PaperlessBilling  7043 non-null   object \n",
      " 12  PaymentMethod     7043 non-null   object \n",
      " 13  MonthlyCharges    7043 non-null   float64\n",
      " 14  Churn             7043 non-null   object \n",
      "dtypes: float64(1), int64(2), object(12)\n",
      "memory usage: 825.5+ KB\n"
     ]
    }
   ],
   "source": [
    "data.info()"
   ]
  },
  {
   "cell_type": "markdown",
   "id": "63807ad5",
   "metadata": {},
   "source": [
    "We do not have any missing data and our data-types are in order. The majority of our data are of 'object' type, our categorical data. "
   ]
  },
  {
   "cell_type": "code",
   "execution_count": 4,
   "id": "3c6e2744",
   "metadata": {},
   "outputs": [
    {
     "data": {
      "text/html": [
       "<div>\n",
       "<style scoped>\n",
       "    .dataframe tbody tr th:only-of-type {\n",
       "        vertical-align: middle;\n",
       "    }\n",
       "\n",
       "    .dataframe tbody tr th {\n",
       "        vertical-align: top;\n",
       "    }\n",
       "\n",
       "    .dataframe thead th {\n",
       "        text-align: right;\n",
       "    }\n",
       "</style>\n",
       "<table border=\"1\" class=\"dataframe\">\n",
       "  <thead>\n",
       "    <tr style=\"text-align: right;\">\n",
       "      <th></th>\n",
       "      <th>SeniorCitizen</th>\n",
       "      <th>tenure</th>\n",
       "      <th>MonthlyCharges</th>\n",
       "    </tr>\n",
       "  </thead>\n",
       "  <tbody>\n",
       "    <tr>\n",
       "      <th>count</th>\n",
       "      <td>7043.000000</td>\n",
       "      <td>7043.000000</td>\n",
       "      <td>7043.000000</td>\n",
       "    </tr>\n",
       "    <tr>\n",
       "      <th>mean</th>\n",
       "      <td>0.162147</td>\n",
       "      <td>32.371149</td>\n",
       "      <td>64.761692</td>\n",
       "    </tr>\n",
       "    <tr>\n",
       "      <th>std</th>\n",
       "      <td>0.368612</td>\n",
       "      <td>24.559481</td>\n",
       "      <td>30.090047</td>\n",
       "    </tr>\n",
       "    <tr>\n",
       "      <th>min</th>\n",
       "      <td>0.000000</td>\n",
       "      <td>0.000000</td>\n",
       "      <td>18.250000</td>\n",
       "    </tr>\n",
       "    <tr>\n",
       "      <th>25%</th>\n",
       "      <td>0.000000</td>\n",
       "      <td>9.000000</td>\n",
       "      <td>35.500000</td>\n",
       "    </tr>\n",
       "    <tr>\n",
       "      <th>50%</th>\n",
       "      <td>0.000000</td>\n",
       "      <td>29.000000</td>\n",
       "      <td>70.350000</td>\n",
       "    </tr>\n",
       "    <tr>\n",
       "      <th>75%</th>\n",
       "      <td>0.000000</td>\n",
       "      <td>55.000000</td>\n",
       "      <td>89.850000</td>\n",
       "    </tr>\n",
       "    <tr>\n",
       "      <th>max</th>\n",
       "      <td>1.000000</td>\n",
       "      <td>72.000000</td>\n",
       "      <td>118.750000</td>\n",
       "    </tr>\n",
       "  </tbody>\n",
       "</table>\n",
       "</div>"
      ],
      "text/plain": [
       "       SeniorCitizen       tenure  MonthlyCharges\n",
       "count    7043.000000  7043.000000     7043.000000\n",
       "mean        0.162147    32.371149       64.761692\n",
       "std         0.368612    24.559481       30.090047\n",
       "min         0.000000     0.000000       18.250000\n",
       "25%         0.000000     9.000000       35.500000\n",
       "50%         0.000000    29.000000       70.350000\n",
       "75%         0.000000    55.000000       89.850000\n",
       "max         1.000000    72.000000      118.750000"
      ]
     },
     "execution_count": 4,
     "metadata": {},
     "output_type": "execute_result"
    }
   ],
   "source": [
    "#summarizing data\n",
    "\n",
    "data.describe()"
   ]
  },
  {
   "cell_type": "markdown",
   "id": "a0583f97",
   "metadata": {},
   "source": [
    "SeniorCitizen is actually categorical hence the 25%,50%,70% distribution is proper\n",
    "We can conclude that 75% of people have tenure and average Monthly charges are USD 64.76 whereas 25% of customers pay more than USD 89.85 per month."
   ]
  },
  {
   "cell_type": "markdown",
   "id": "abae7ea5",
   "metadata": {},
   "source": [
    "# Descriptive statistics for categorical variable"
   ]
  },
  {
   "cell_type": "code",
   "execution_count": 5,
   "id": "4b63585c",
   "metadata": {},
   "outputs": [
    {
     "data": {
      "text/plain": [
       "count     7043\n",
       "unique       2\n",
       "top         No\n",
       "freq      5174\n",
       "Name: Churn, dtype: object"
      ]
     },
     "execution_count": 5,
     "metadata": {},
     "output_type": "execute_result"
    }
   ],
   "source": [
    "data.Churn.describe()"
   ]
  },
  {
   "cell_type": "markdown",
   "id": "9368d55b",
   "metadata": {},
   "source": [
    "we conclude that the there are 7043 responses , 2 unique categorical values and 5174 is the frequency."
   ]
  },
  {
   "cell_type": "code",
   "execution_count": 6,
   "id": "390dd800",
   "metadata": {},
   "outputs": [
    {
     "data": {
      "text/plain": [
       "Male      50.0\n",
       "Female    50.0\n",
       "Name: gender, dtype: float64"
      ]
     },
     "execution_count": 6,
     "metadata": {},
     "output_type": "execute_result"
    }
   ],
   "source": [
    "round(data[\"gender\"].value_counts(normalize=True)*100,0)"
   ]
  },
  {
   "cell_type": "code",
   "execution_count": 7,
   "id": "70caf86e",
   "metadata": {},
   "outputs": [
    {
     "data": {
      "text/plain": [
       "No     73.0\n",
       "Yes    27.0\n",
       "Name: Churn, dtype: float64"
      ]
     },
     "execution_count": 7,
     "metadata": {},
     "output_type": "execute_result"
    }
   ],
   "source": [
    "round(data['Churn'].value_counts(normalize=True)*100,0)"
   ]
  },
  {
   "cell_type": "markdown",
   "id": "6f6c6494",
   "metadata": {},
   "source": [
    "From the above output we conclude that our dataset is not balanced at all that is Yes is 27 around and No is 73 around. So we analyze the data with other features while taking the target values separately to get some insights."
   ]
  },
  {
   "cell_type": "code",
   "execution_count": 8,
   "id": "485895b0",
   "metadata": {},
   "outputs": [
    {
     "data": {
      "text/plain": [
       "Churn  gender\n",
       "No     Male      51.0\n",
       "       Female    49.0\n",
       "Yes    Female    50.0\n",
       "       Male      50.0\n",
       "Name: gender, dtype: float64"
      ]
     },
     "execution_count": 8,
     "metadata": {},
     "output_type": "execute_result"
    }
   ],
   "source": [
    "round(data.groupby(\"Churn\")[\"gender\"].value_counts(100)*100,0)"
   ]
  },
  {
   "cell_type": "code",
   "execution_count": 9,
   "id": "07760c49",
   "metadata": {},
   "outputs": [
    {
     "name": "stderr",
     "output_type": "stream",
     "text": [
      "C:\\Users\\kushp\\anaconda3\\New folder (2)\\lib\\site-packages\\seaborn\\_decorators.py:36: FutureWarning: Pass the following variable as a keyword arg: x. From version 0.12, the only valid positional argument will be `data`, and passing other arguments without an explicit keyword will result in an error or misinterpretation.\n",
      "  warnings.warn(\n"
     ]
    },
    {
     "data": {
      "text/plain": [
       "<AxesSubplot:xlabel='Churn', ylabel='count'>"
      ]
     },
     "execution_count": 9,
     "metadata": {},
     "output_type": "execute_result"
    },
    {
     "data": {
      "image/png": "[encoded data removed]",
      "text/plain": [
       "<Figure size 432x288 with 1 Axes>"
      ]
     },
     "metadata": {
      "needs_background": "light"
     },
     "output_type": "display_data"
    }
   ],
   "source": [
    "sns.countplot(data.Churn)"
   ]
  },
  {
   "cell_type": "markdown",
   "id": "34810092",
   "metadata": {},
   "source": [
    "50% of customers churn with the response 'No' is high that is customer left within the last month"
   ]
  },
  {
   "cell_type": "code",
   "execution_count": 10,
   "id": "74d751f2",
   "metadata": {},
   "outputs": [
    {
     "data": {
      "text/plain": [
       "Month-to-month    55.0\n",
       "Two year          24.0\n",
       "One year          21.0\n",
       "Name: Contract, dtype: float64"
      ]
     },
     "execution_count": 10,
     "metadata": {},
     "output_type": "execute_result"
    }
   ],
   "source": [
    "round(data[\"Contract\"].value_counts(normalize=True)*100,0)"
   ]
  },
  {
   "cell_type": "code",
   "execution_count": 11,
   "id": "bd7bc959",
   "metadata": {},
   "outputs": [
    {
     "data": {
      "text/plain": [
       "<AxesSubplot:>"
      ]
     },
     "execution_count": 11,
     "metadata": {},
     "output_type": "execute_result"
    },
    {
     "data": {
      "image/png": "[encoded data removed]",
      "text/plain": [
       "<Figure size 432x288 with 1 Axes>"
      ]
     },
     "metadata": {
      "needs_background": "light"
     },
     "output_type": "display_data"
    }
   ],
   "source": [
    "data[\"Contract\"].value_counts().plot(kind=\"bar\")"
   ]
  },
  {
   "cell_type": "markdown",
   "id": "a00fb37e",
   "metadata": {},
   "source": [
    "55% of people make Month-to-Month contract and yearly contract percentages are low so we have revice the offers for yearly contract"
   ]
  },
  {
   "cell_type": "code",
   "execution_count": 12,
   "id": "be4847c4",
   "metadata": {},
   "outputs": [
    {
     "data": {
      "text/plain": [
       "Yes    59.22\n",
       "No     40.78\n",
       "Name: PaperlessBilling, dtype: float64"
      ]
     },
     "execution_count": 12,
     "metadata": {},
     "output_type": "execute_result"
    }
   ],
   "source": [
    "round(data[\"PaperlessBilling\"].value_counts(normalize=True)*100,2)"
   ]
  },
  {
   "cell_type": "code",
   "execution_count": 13,
   "id": "d3542539",
   "metadata": {},
   "outputs": [
    {
     "data": {
      "text/plain": [
       "<AxesSubplot:>"
      ]
     },
     "execution_count": 13,
     "metadata": {},
     "output_type": "execute_result"
    },
    {
     "data": {
      "image/png": "[encoded data removed]",
      "text/plain": [
       "<Figure size 432x288 with 1 Axes>"
      ]
     },
     "metadata": {
      "needs_background": "light"
     },
     "output_type": "display_data"
    }
   ],
   "source": [
    "data[\"PaperlessBilling\"].value_counts().plot(kind=\"bar\")"
   ]
  },
  {
   "cell_type": "markdown",
   "id": "129089d2",
   "metadata": {},
   "source": [
    "59% of customer account information for paperlessbilling."
   ]
  },
  {
   "cell_type": "markdown",
   "id": "e168c495",
   "metadata": {},
   "source": [
    "# Descriptive statistics for numerical data"
   ]
  },
  {
   "cell_type": "code",
   "execution_count": 14,
   "id": "e7280dd0",
   "metadata": {},
   "outputs": [
    {
     "data": {
      "text/html": [
       "<div>\n",
       "<style scoped>\n",
       "    .dataframe tbody tr th:only-of-type {\n",
       "        vertical-align: middle;\n",
       "    }\n",
       "\n",
       "    .dataframe tbody tr th {\n",
       "        vertical-align: top;\n",
       "    }\n",
       "\n",
       "    .dataframe thead th {\n",
       "        text-align: right;\n",
       "    }\n",
       "</style>\n",
       "<table border=\"1\" class=\"dataframe\">\n",
       "  <thead>\n",
       "    <tr style=\"text-align: right;\">\n",
       "      <th></th>\n",
       "      <th>MonthlyCharges</th>\n",
       "    </tr>\n",
       "  </thead>\n",
       "  <tbody>\n",
       "    <tr>\n",
       "      <th>nobs</th>\n",
       "      <td>7.043000e+03</td>\n",
       "    </tr>\n",
       "    <tr>\n",
       "      <th>missing</th>\n",
       "      <td>0.000000e+00</td>\n",
       "    </tr>\n",
       "    <tr>\n",
       "      <th>mean</th>\n",
       "      <td>6.476169e+01</td>\n",
       "    </tr>\n",
       "    <tr>\n",
       "      <th>std_err</th>\n",
       "      <td>4.272334e-03</td>\n",
       "    </tr>\n",
       "    <tr>\n",
       "      <th>upper_ci</th>\n",
       "      <td>6.477007e+01</td>\n",
       "    </tr>\n",
       "    <tr>\n",
       "      <th>lower_ci</th>\n",
       "      <td>6.475332e+01</td>\n",
       "    </tr>\n",
       "    <tr>\n",
       "      <th>std</th>\n",
       "      <td>3.009005e+01</td>\n",
       "    </tr>\n",
       "    <tr>\n",
       "      <th>iqr</th>\n",
       "      <td>5.435000e+01</td>\n",
       "    </tr>\n",
       "    <tr>\n",
       "      <th>iqr_normal</th>\n",
       "      <td>4.028972e+01</td>\n",
       "    </tr>\n",
       "    <tr>\n",
       "      <th>mad</th>\n",
       "      <td>2.622210e+01</td>\n",
       "    </tr>\n",
       "    <tr>\n",
       "      <th>mad_normal</th>\n",
       "      <td>3.286453e+01</td>\n",
       "    </tr>\n",
       "    <tr>\n",
       "      <th>coef_var</th>\n",
       "      <td>4.646273e-01</td>\n",
       "    </tr>\n",
       "    <tr>\n",
       "      <th>range</th>\n",
       "      <td>1.005000e+02</td>\n",
       "    </tr>\n",
       "    <tr>\n",
       "      <th>max</th>\n",
       "      <td>1.187500e+02</td>\n",
       "    </tr>\n",
       "    <tr>\n",
       "      <th>min</th>\n",
       "      <td>1.825000e+01</td>\n",
       "    </tr>\n",
       "    <tr>\n",
       "      <th>skew</th>\n",
       "      <td>-2.204775e-01</td>\n",
       "    </tr>\n",
       "    <tr>\n",
       "      <th>kurtosis</th>\n",
       "      <td>1.742781e+00</td>\n",
       "    </tr>\n",
       "    <tr>\n",
       "      <th>jarque_bera</th>\n",
       "      <td>5.209006e+02</td>\n",
       "    </tr>\n",
       "    <tr>\n",
       "      <th>jarque_bera_pval</th>\n",
       "      <td>7.724497e-114</td>\n",
       "    </tr>\n",
       "    <tr>\n",
       "      <th>mode</th>\n",
       "      <td>2.005000e+01</td>\n",
       "    </tr>\n",
       "    <tr>\n",
       "      <th>mode_freq</th>\n",
       "      <td>8.661082e-03</td>\n",
       "    </tr>\n",
       "    <tr>\n",
       "      <th>median</th>\n",
       "      <td>7.035000e+01</td>\n",
       "    </tr>\n",
       "    <tr>\n",
       "      <th>1%</th>\n",
       "      <td>1.920000e+01</td>\n",
       "    </tr>\n",
       "    <tr>\n",
       "      <th>5%</th>\n",
       "      <td>1.965000e+01</td>\n",
       "    </tr>\n",
       "    <tr>\n",
       "      <th>10%</th>\n",
       "      <td>2.005000e+01</td>\n",
       "    </tr>\n",
       "    <tr>\n",
       "      <th>25%</th>\n",
       "      <td>3.550000e+01</td>\n",
       "    </tr>\n",
       "    <tr>\n",
       "      <th>50%</th>\n",
       "      <td>7.035000e+01</td>\n",
       "    </tr>\n",
       "    <tr>\n",
       "      <th>75%</th>\n",
       "      <td>8.985000e+01</td>\n",
       "    </tr>\n",
       "    <tr>\n",
       "      <th>90%</th>\n",
       "      <td>1.026000e+02</td>\n",
       "    </tr>\n",
       "    <tr>\n",
       "      <th>95%</th>\n",
       "      <td>1.074000e+02</td>\n",
       "    </tr>\n",
       "    <tr>\n",
       "      <th>99%</th>\n",
       "      <td>1.147290e+02</td>\n",
       "    </tr>\n",
       "  </tbody>\n",
       "</table>\n",
       "</div>"
      ],
      "text/plain": [
       "                  MonthlyCharges\n",
       "nobs                7.043000e+03\n",
       "missing             0.000000e+00\n",
       "mean                6.476169e+01\n",
       "std_err             4.272334e-03\n",
       "upper_ci            6.477007e+01\n",
       "lower_ci            6.475332e+01\n",
       "std                 3.009005e+01\n",
       "iqr                 5.435000e+01\n",
       "iqr_normal          4.028972e+01\n",
       "mad                 2.622210e+01\n",
       "mad_normal          3.286453e+01\n",
       "coef_var            4.646273e-01\n",
       "range               1.005000e+02\n",
       "max                 1.187500e+02\n",
       "min                 1.825000e+01\n",
       "skew               -2.204775e-01\n",
       "kurtosis            1.742781e+00\n",
       "jarque_bera         5.209006e+02\n",
       "jarque_bera_pval   7.724497e-114\n",
       "mode                2.005000e+01\n",
       "mode_freq           8.661082e-03\n",
       "median              7.035000e+01\n",
       "1%                  1.920000e+01\n",
       "5%                  1.965000e+01\n",
       "10%                 2.005000e+01\n",
       "25%                 3.550000e+01\n",
       "50%                 7.035000e+01\n",
       "75%                 8.985000e+01\n",
       "90%                 1.026000e+02\n",
       "95%                 1.074000e+02\n",
       "99%                 1.147290e+02"
      ]
     },
     "execution_count": 14,
     "metadata": {},
     "output_type": "execute_result"
    }
   ],
   "source": [
    "from statsmodels.stats import descriptivestats\n",
    "\n",
    "descriptivestats.describe(data.MonthlyCharges)"
   ]
  },
  {
   "cell_type": "markdown",
   "id": "2a108315",
   "metadata": {},
   "source": [
    "On average, people who pay for the service USD 64.76 and the most expensive charge monthly is USD 118.75. The cheapest monthly charge is USD 18.25."
   ]
  },
  {
   "cell_type": "code",
   "execution_count": 15,
   "id": "d75fe0b3",
   "metadata": {},
   "outputs": [
    {
     "data": {
      "text/plain": [
       "<AxesSubplot:ylabel='tenure'>"
      ]
     },
     "execution_count": 15,
     "metadata": {},
     "output_type": "execute_result"
    },
    {
     "data": {
      "image/png": "[encoded data removed]",
      "text/plain": [
       "<Figure size 432x288 with 1 Axes>"
      ]
     },
     "metadata": {
      "needs_background": "light"
     },
     "output_type": "display_data"
    }
   ],
   "source": [
    "sns.boxplot(y=data.tenure)"
   ]
  },
  {
   "cell_type": "markdown",
   "id": "97e420ab",
   "metadata": {},
   "source": [
    "By using the five point summary in visualisation we get that there are no outliers present in the above boxplot using seaborn.\n",
    "\n",
    "Hence the lower side has no outliers then the minimum value and lower whisker line coincides and also in the upper side it has no outliers then the maximum value and upper whisker line coincides.\n",
    "\n",
    "Since no outliers present, we consider that there is no experimental error or data point doesn't differs significantly from other observations. "
   ]
  },
  {
   "cell_type": "markdown",
   "id": "4d2e71c0",
   "metadata": {},
   "source": [
    "# Measure of location"
   ]
  },
  {
   "cell_type": "code",
   "execution_count": 19,
   "id": "cd19b844",
   "metadata": {},
   "outputs": [
    {
     "data": {
      "text/plain": [
       "35.5"
      ]
     },
     "execution_count": 19,
     "metadata": {},
     "output_type": "execute_result"
    }
   ],
   "source": [
    "#first quartile (Q1)\n",
    "data.MonthlyCharges.quantile(0.25)"
   ]
  },
  {
   "cell_type": "code",
   "execution_count": 20,
   "id": "3268d88e",
   "metadata": {},
   "outputs": [
    {
     "data": {
      "text/plain": [
       "70.35"
      ]
     },
     "execution_count": 20,
     "metadata": {},
     "output_type": "execute_result"
    }
   ],
   "source": [
    "#second quartile (Q2)\n",
    "data.MonthlyCharges.quantile(0.50)"
   ]
  },
  {
   "cell_type": "code",
   "execution_count": 21,
   "id": "64a7f147",
   "metadata": {},
   "outputs": [
    {
     "data": {
      "text/plain": [
       "89.85"
      ]
     },
     "execution_count": 21,
     "metadata": {},
     "output_type": "execute_result"
    }
   ],
   "source": [
    "#third quartile (Q3)\n",
    "data.MonthlyCharges.quantile(0.75)"
   ]
  },
  {
   "cell_type": "markdown",
   "id": "e658a687",
   "metadata": {},
   "source": [
    "From the above results we conclude that quantile make it as generic function and the top 25% of customers paid the MonthlyCharges, 70.35 is the median of MonthlyCharges and 89% of customers paid the MonthlyCharges."
   ]
  },
  {
   "cell_type": "markdown",
   "id": "d925f744",
   "metadata": {},
   "source": [
    "# Measure of central tendency"
   ]
  },
  {
   "cell_type": "code",
   "execution_count": 17,
   "id": "4a94b6db",
   "metadata": {},
   "outputs": [
    {
     "data": {
      "text/plain": [
       "64.76169246059922"
      ]
     },
     "execution_count": 17,
     "metadata": {},
     "output_type": "execute_result"
    }
   ],
   "source": [
    "#Mean\n",
    "\n",
    "data[\"MonthlyCharges\"].mean()"
   ]
  },
  {
   "cell_type": "markdown",
   "id": "6c96b307",
   "metadata": {},
   "source": [
    "64.76 is the least total error in the dataframe."
   ]
  },
  {
   "cell_type": "code",
   "execution_count": 18,
   "id": "d601614c",
   "metadata": {},
   "outputs": [
    {
     "data": {
      "text/plain": [
       "70.35"
      ]
     },
     "execution_count": 18,
     "metadata": {},
     "output_type": "execute_result"
    }
   ],
   "source": [
    "#Median\n",
    "\n",
    "data[\"MonthlyCharges\"].median()"
   ]
  },
  {
   "cell_type": "markdown",
   "id": "97e05ebd",
   "metadata": {},
   "source": [
    "70.35 indicates that the bulk of the data 'MonthlyCharges' have higher values which results to a higher median. The customers are paying their monthlycharges without any delay."
   ]
  },
  {
   "cell_type": "code",
   "execution_count": 19,
   "id": "29d8ffef",
   "metadata": {},
   "outputs": [
    {
     "data": {
      "text/plain": [
       "0    20.05\n",
       "Name: MonthlyCharges, dtype: float64"
      ]
     },
     "execution_count": 19,
     "metadata": {},
     "output_type": "execute_result"
    }
   ],
   "source": [
    "#Mode\n",
    "\n",
    "data[\"MonthlyCharges\"].mode()"
   ]
  },
  {
   "cell_type": "markdown",
   "id": "244f6e1e",
   "metadata": {},
   "source": [
    "As mode takes in array form it indicates '0' , mode may not be single value sometimes more than one value then it gives in array format. \n",
    "\n",
    "From the above result we get that only 20% of the customers paid MonthlyCharges which not frequently used(that is only 20%).\n"
   ]
  },
  {
   "cell_type": "markdown",
   "id": "4afea459",
   "metadata": {},
   "source": [
    "# Measure of dispersion"
   ]
  },
  {
   "cell_type": "code",
   "execution_count": 28,
   "id": "8ec25b88",
   "metadata": {},
   "outputs": [
    {
     "data": {
      "text/plain": [
       "72"
      ]
     },
     "execution_count": 28,
     "metadata": {},
     "output_type": "execute_result"
    }
   ],
   "source": [
    "#Range\n",
    "range=data.tenure.max()-data.tenure.min()\n",
    "range"
   ]
  },
  {
   "cell_type": "code",
   "execution_count": 29,
   "id": "a4f7dcf8",
   "metadata": {},
   "outputs": [
    {
     "data": {
      "text/plain": [
       "21.8730899289692"
      ]
     },
     "execution_count": 29,
     "metadata": {},
     "output_type": "execute_result"
    }
   ],
   "source": [
    "#mean absolute deviation(MAD)\n",
    "mad=data.tenure.mad()\n",
    "mad"
   ]
  },
  {
   "cell_type": "code",
   "execution_count": 30,
   "id": "2820b9ea",
   "metadata": {},
   "outputs": [
    {
     "data": {
      "text/plain": [
       "603.1681081237256"
      ]
     },
     "execution_count": 30,
     "metadata": {},
     "output_type": "execute_result"
    }
   ],
   "source": [
    "#Mean square deviation(MSD)- variance\n",
    "data.tenure.var()"
   ]
  },
  {
   "cell_type": "code",
   "execution_count": 31,
   "id": "f0ef4c8a",
   "metadata": {},
   "outputs": [
    {
     "data": {
      "text/plain": [
       "24.55948102309423"
      ]
     },
     "execution_count": 31,
     "metadata": {},
     "output_type": "execute_result"
    }
   ],
   "source": [
    "#Root mean square deviation(RMSD)- Standard deviation\n",
    "data.tenure.std()"
   ]
  },
  {
   "cell_type": "code",
   "execution_count": 32,
   "id": "2228bea5",
   "metadata": {},
   "outputs": [
    {
     "data": {
      "text/plain": [
       "75.86842617906603"
      ]
     },
     "execution_count": 32,
     "metadata": {},
     "output_type": "execute_result"
    }
   ],
   "source": [
    "#coefficient of variation\n",
    "cv=data.tenure.std()*100/data.tenure.mean()\n",
    "cv"
   ]
  },
  {
   "cell_type": "markdown",
   "id": "4bf15510",
   "metadata": {},
   "source": [
    "From the above results we conclude that approximately data is spread around central value."
   ]
  },
  {
   "cell_type": "code",
   "execution_count": 34,
   "id": "a678c016",
   "metadata": {},
   "outputs": [
    {
     "data": {
      "text/plain": [
       "0.2395397495619829"
      ]
     },
     "execution_count": 34,
     "metadata": {},
     "output_type": "execute_result"
    }
   ],
   "source": [
    "#Measures of distribution shape - skweness and kurtosis\n",
    "data.tenure.skew()"
   ]
  },
  {
   "cell_type": "markdown",
   "id": "8a2696f2",
   "metadata": {},
   "source": [
    "From the result we conclude that skewness is weakly positive that is the average length of time individuals are employed by the organization are 23%."
   ]
  },
  {
   "cell_type": "code",
   "execution_count": 35,
   "id": "8477ebc5",
   "metadata": {},
   "outputs": [
    {
     "data": {
      "text/plain": [
       "-1.387371635971685"
      ]
     },
     "execution_count": 35,
     "metadata": {},
     "output_type": "execute_result"
    }
   ],
   "source": [
    "data.tenure.kurt()"
   ]
  },
  {
   "cell_type": "markdown",
   "id": "30d2a212",
   "metadata": {},
   "source": [
    "From the above result we conclude that kurtosis is perfect negative that is the average length of time individuals are employed by the organization are 13.87%."
   ]
  },
  {
   "cell_type": "markdown",
   "id": "fda53f38",
   "metadata": {},
   "source": [
    "# Measure of location"
   ]
  },
  {
   "cell_type": "code",
   "execution_count": 36,
   "id": "a05a6459",
   "metadata": {},
   "outputs": [
    {
     "data": {
      "text/html": [
       "<div>\n",
       "<style scoped>\n",
       "    .dataframe tbody tr th:only-of-type {\n",
       "        vertical-align: middle;\n",
       "    }\n",
       "\n",
       "    .dataframe tbody tr th {\n",
       "        vertical-align: top;\n",
       "    }\n",
       "\n",
       "    .dataframe thead th {\n",
       "        text-align: right;\n",
       "    }\n",
       "</style>\n",
       "<table border=\"1\" class=\"dataframe\">\n",
       "  <thead>\n",
       "    <tr style=\"text-align: right;\">\n",
       "      <th></th>\n",
       "      <th>tenure</th>\n",
       "      <th>MonthlyCharges</th>\n",
       "    </tr>\n",
       "  </thead>\n",
       "  <tbody>\n",
       "    <tr>\n",
       "      <th>tenure</th>\n",
       "      <td>1.0000</td>\n",
       "      <td>0.2479</td>\n",
       "    </tr>\n",
       "    <tr>\n",
       "      <th>MonthlyCharges</th>\n",
       "      <td>0.2479</td>\n",
       "      <td>1.0000</td>\n",
       "    </tr>\n",
       "  </tbody>\n",
       "</table>\n",
       "</div>"
      ],
      "text/plain": [
       "                tenure  MonthlyCharges\n",
       "tenure          1.0000          0.2479\n",
       "MonthlyCharges  0.2479          1.0000"
      ]
     },
     "execution_count": 36,
     "metadata": {},
     "output_type": "execute_result"
    }
   ],
   "source": [
    "data[[\"tenure\",\"MonthlyCharges\"]].corr()"
   ]
  },
  {
   "cell_type": "markdown",
   "id": "4430583f",
   "metadata": {},
   "source": [
    " The correlation between tenure and MonthlyCharges is 0.2479 which is weak positive ,amount of charges paid for the first full calendar month of the relevant service giving raise to claim."
   ]
  },
  {
   "cell_type": "code",
   "execution_count": 15,
   "id": "d988a27c",
   "metadata": {},
   "outputs": [
    {
     "name": "stderr",
     "output_type": "stream",
     "text": [
      "C:\\Users\\kushp\\anaconda3\\New folder (2)\\lib\\site-packages\\seaborn\\distributions.py:2619: FutureWarning: `distplot` is a deprecated function and will be removed in a future version. Please adapt your code to use either `displot` (a figure-level function with similar flexibility) or `kdeplot` (an axes-level function for kernel density plots).\n",
      "  warnings.warn(msg, FutureWarning)\n"
     ]
    },
    {
     "data": {
      "text/plain": [
       "<AxesSubplot:xlabel='MonthlyCharges', ylabel='Density'>"
      ]
     },
     "execution_count": 15,
     "metadata": {},
     "output_type": "execute_result"
    },
    {
     "data": {
      "image/png": "[encoded data removed]",
      "text/plain": [
       "<Figure size 432x288 with 1 Axes>"
      ]
     },
     "metadata": {
      "needs_background": "light"
     },
     "output_type": "display_data"
    }
   ],
   "source": [
    "sns.distplot(data.MonthlyCharges,hist=False)"
   ]
  },
  {
   "cell_type": "code",
   "execution_count": 20,
   "id": "636bc1d0",
   "metadata": {},
   "outputs": [
    {
     "data": {
      "text/plain": [
       "<AxesSubplot:>"
      ]
     },
     "execution_count": 20,
     "metadata": {},
     "output_type": "execute_result"
    },
    {
     "data": {
      "image/png": "[encoded data removed]",
      "text/plain": [
       "<Figure size 432x288 with 2 Axes>"
      ]
     },
     "metadata": {
      "needs_background": "light"
     },
     "output_type": "display_data"
    }
   ],
   "source": [
    "sns.heatmap(data[[\"tenure\",\"MonthlyCharges\"]].corr())"
   ]
  },
  {
   "cell_type": "markdown",
   "id": "b8763317",
   "metadata": {},
   "source": [
    " From the above heat map we conclude that the highest correlation is between MonthlyCharge and tenure. The average length of time individuals are employed by the organization and amount of charges paid for the first full calendar month of the relevant service giving raise to claim."
   ]
  },
  {
   "cell_type": "code",
   "execution_count": null,
   "id": "9df80dbb",
   "metadata": {},
   "outputs": [],
   "source": []
  }
 ],
 "metadata": {
  "kernelspec": {
   "display_name": "Python 3 (ipykernel)",
   "language": "python",
   "name": "python3"
  },
  "language_info": {
   "codemirror_mode": {
    "name": "ipython",
    "version": 3
   },
   "file_extension": ".py",
   "mimetype": "text/x-python",
   "name": "python",
   "nbconvert_exporter": "python",
   "pygments_lexer": "ipython3",
   "version": "3.9.12"
  }
 },
 "nbformat": 4,
 "nbformat_minor": 5
}
