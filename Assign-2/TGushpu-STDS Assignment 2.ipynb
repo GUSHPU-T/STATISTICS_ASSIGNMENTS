{
 "cells": [
  {
   "cell_type": "code",
   "execution_count": 3,
   "id": "a4f4c714",
   "metadata": {},
   "outputs": [],
   "source": [
    "import numpy as np\n",
    "import pandas as pd\n",
    "import seaborn as sns\n",
    "import matplotlib.pyplot as plt\n",
    "import scipy.stats as st\n",
    "import statsmodels.stats as stm"
   ]
  },
  {
   "cell_type": "code",
   "execution_count": 4,
   "id": "1cd7b750",
   "metadata": {},
   "outputs": [
    {
     "data": {
      "text/plain": [
       "0.003913539299999998"
      ]
     },
     "execution_count": 4,
     "metadata": {},
     "output_type": "execute_result"
    }
   ],
   "source": [
    "#1)-a)p(x=0)=?\n",
    "\n",
    "n=5\n",
    "p=0.67\n",
    "x=0\n",
    "st.binom.pmf(x,n,p)"
   ]
  },
  {
   "cell_type": "code",
   "execution_count": 5,
   "id": "24c0278c",
   "metadata": {},
   "outputs": [
    {
     "data": {
      "text/plain": [
       "0.6600244035"
      ]
     },
     "execution_count": 5,
     "metadata": {},
     "output_type": "execute_result"
    }
   ],
   "source": [
    "#1)-b)p(x between 2 to 4)=?\n",
    "n=5\n",
    "p=0.67\n",
    "x1=2\n",
    "x2=4\n",
    "st.binom.sf(2,n,p)-st.binom.sf(4,n,p)"
   ]
  },
  {
   "cell_type": "code",
   "execution_count": 6,
   "id": "b516c923",
   "metadata": {},
   "outputs": [
    {
     "data": {
      "text/plain": [
       "0.6600244035000001"
      ]
     },
     "execution_count": 6,
     "metadata": {},
     "output_type": "execute_result"
    }
   ],
   "source": [
    "st.binom.cdf(4, n,p)- st.binom.cdf(2,n,p)"
   ]
  },
  {
   "cell_type": "code",
   "execution_count": 7,
   "id": "13bf5cdb",
   "metadata": {},
   "outputs": [
    {
     "data": {
      "text/plain": [
       "0.3324934965000002"
      ]
     },
     "execution_count": 7,
     "metadata": {},
     "output_type": "execute_result"
    }
   ],
   "source": [
    "#1)-c)p(x>4)=?\n",
    "\n",
    "n=5\n",
    "p=0.67\n",
    "x=4\n",
    "st.binom.pmf(x,n,p)"
   ]
  },
  {
   "cell_type": "code",
   "execution_count": 8,
   "id": "85df3d01",
   "metadata": {},
   "outputs": [
    {
     "data": {
      "text/plain": [
       "0.15244558860568092"
      ]
     },
     "execution_count": 8,
     "metadata": {},
     "output_type": "execute_result"
    }
   ],
   "source": [
    "#2)-a)\n",
    "\n",
    "mu= 100\n",
    "sigma=20\n",
    "1- (st.norm.cdf(50, mu,sigma)+st.norm.sf(80, mu,sigma)) #crt"
   ]
  },
  {
   "cell_type": "code",
   "execution_count": 12,
   "id": "fac101bb",
   "metadata": {},
   "outputs": [
    {
     "data": {
      "text/plain": [
       "0.5"
      ]
     },
     "execution_count": 12,
     "metadata": {},
     "output_type": "execute_result"
    }
   ],
   "source": [
    "#2)-b)100hrs\n",
    "\n",
    "x= 100\n",
    "mu = 100\n",
    "sigma=20\n",
    "st.norm.cdf(x, mu, sigma)"
   ]
  },
  {
   "cell_type": "code",
   "execution_count": 15,
   "id": "98c48e62",
   "metadata": {},
   "outputs": [
    {
     "data": {
      "text/plain": [
       "0.47040098107884865"
      ]
     },
     "execution_count": 15,
     "metadata": {},
     "output_type": "execute_result"
    }
   ],
   "source": [
    "#3)p(x>=3)=p(x=3)+p(x=4)+p(x=5)+p(x=6)\n",
    "\n",
    "n=20\n",
    "p=0.20\n",
    "x=3\n",
    "st.binom.pmf(2,n,p)+st.binom.pmf(4,n,p)+st.binom.pmf(1,n,p)+st.binom.pmf(1,n,p)"
   ]
  },
  {
   "cell_type": "code",
   "execution_count": 16,
   "id": "30047690",
   "metadata": {},
   "outputs": [
    {
     "data": {
      "text/plain": [
       "0.950212931632136"
      ]
     },
     "execution_count": 16,
     "metadata": {},
     "output_type": "execute_result"
    }
   ],
   "source": [
    "#4)-a)p(x>=1)\n",
    "\n",
    "lamda=3\n",
    "x=0\n",
    "1-(1-st.poisson.sf(x, lamda))"
   ]
  },
  {
   "cell_type": "code",
   "execution_count": 17,
   "id": "26c304c5",
   "metadata": {},
   "outputs": [
    {
     "data": {
      "text/plain": [
       "0.6161149710523164"
      ]
     },
     "execution_count": 17,
     "metadata": {},
     "output_type": "execute_result"
    }
   ],
   "source": [
    "#4)-b)p(2<=x<=5)=p(x=2)+p(x=3)+p(x=4)\n",
    "\n",
    "lamda=3\n",
    "x1=2\n",
    "x2=3\n",
    "x3=4\n",
    "st.poisson.pmf(x1, lamda)+st.poisson.pmf(x2, lamda)+st.poisson.pmf(x3, lamda)"
   ]
  },
  {
   "cell_type": "code",
   "execution_count": 18,
   "id": "2ca576ff",
   "metadata": {},
   "outputs": [
    {
     "data": {
      "text/plain": [
       "0.3327257630763677"
      ]
     },
     "execution_count": 18,
     "metadata": {},
     "output_type": "execute_result"
    }
   ],
   "source": [
    "#4)-c)p(x=1)\n",
    "\n",
    "lamda=0.6161149710523164\n",
    "x=1\n",
    "st.poisson.pmf(x, lamda)"
   ]
  },
  {
   "cell_type": "code",
   "execution_count": 19,
   "id": "30430f52",
   "metadata": {},
   "outputs": [
    {
     "data": {
      "text/plain": [
       "0.03295898437499997"
      ]
     },
     "execution_count": 19,
     "metadata": {},
     "output_type": "execute_result"
    }
   ],
   "source": [
    "#5)\n",
    "\n",
    "n=6\n",
    "p=0.25\n",
    "q=0.75\n",
    "x=4\n",
    "st.binom.pmf(x,n,p)"
   ]
  },
  {
   "cell_type": "code",
   "execution_count": 20,
   "id": "c767b44e",
   "metadata": {},
   "outputs": [
    {
     "data": {
      "text/plain": [
       "0.001291467968999999"
      ]
     },
     "execution_count": 20,
     "metadata": {},
     "output_type": "execute_result"
    }
   ],
   "source": [
    "#6)-a)\n",
    "\n",
    "n=6\n",
    "p=0.67\n",
    "x=0\n",
    "st.binom.pmf(x,n,p)"
   ]
  },
  {
   "cell_type": "code",
   "execution_count": 21,
   "id": "da1249c9",
   "metadata": {},
   "outputs": [
    {
     "data": {
      "text/plain": [
       "0.6251929506899999"
      ]
     },
     "execution_count": 21,
     "metadata": {},
     "output_type": "execute_result"
    }
   ],
   "source": [
    "#6)-b)\n",
    "\n",
    "n=6\n",
    "p=0.67\n",
    "x1=1\n",
    "x2=4  \n",
    "st.binom.sf(1,n,p)-st.binom.sf(4,n,p)"
   ]
  },
  {
   "cell_type": "code",
   "execution_count": 22,
   "id": "0cf87508",
   "metadata": {},
   "outputs": [
    {
     "data": {
      "text/plain": [
       "0.6251929506899999"
      ]
     },
     "execution_count": 22,
     "metadata": {},
     "output_type": "execute_result"
    }
   ],
   "source": [
    "st.binom.cdf(4, n,p)- st.binom.cdf(1,n,p)"
   ]
  },
  {
   "cell_type": "code",
   "execution_count": 23,
   "id": "0acf34c3",
   "metadata": {},
   "outputs": [
    {
     "data": {
      "text/plain": [
       "0.6251929506899999"
      ]
     },
     "execution_count": 23,
     "metadata": {},
     "output_type": "execute_result"
    }
   ],
   "source": [
    "1- (st.binom.cdf(1, n,p)+st.binom.sf(4,n,p))"
   ]
  },
  {
   "cell_type": "code",
   "execution_count": 24,
   "id": "9560ff71",
   "metadata": {},
   "outputs": [
    {
     "data": {
      "text/plain": [
       "0.32916856153500007"
      ]
     },
     "execution_count": 24,
     "metadata": {},
     "output_type": "execute_result"
    }
   ],
   "source": [
    "#6)-c)p(x>4)\n",
    "\n",
    "n=6\n",
    "p=0.67\n",
    "x=4\n",
    "st.binom.pmf(x,n,p)"
   ]
  },
  {
   "cell_type": "code",
   "execution_count": 197,
   "id": "1849b657",
   "metadata": {},
   "outputs": [
    {
     "data": {
      "text/plain": [
       "100000"
      ]
     },
     "execution_count": 197,
     "metadata": {},
     "output_type": "execute_result"
    }
   ],
   "source": [
    "#7)DISTRIBUTION- SKEWNESS(POSITIVELY SKEWED)\n",
    "\n",
    "population=st.skewnorm.rvs(100, size=100000)\n",
    "random.seed(1)\n",
    "len(population)"
   ]
  },
  {
   "cell_type": "code",
   "execution_count": 198,
   "id": "ca0d7759",
   "metadata": {},
   "outputs": [
    {
     "data": {
      "text/plain": [
       "0.7986302512090548"
      ]
     },
     "execution_count": 198,
     "metadata": {},
     "output_type": "execute_result"
    }
   ],
   "source": [
    "population.mean()"
   ]
  },
  {
   "cell_type": "code",
   "execution_count": 199,
   "id": "2bb4b0b7",
   "metadata": {},
   "outputs": [
    {
     "data": {
      "text/plain": [
       "0.6042593571211236"
      ]
     },
     "execution_count": 199,
     "metadata": {},
     "output_type": "execute_result"
    }
   ],
   "source": [
    "population.std()"
   ]
  },
  {
   "cell_type": "code",
   "execution_count": 196,
   "id": "fd7a2bb2",
   "metadata": {},
   "outputs": [
    {
     "name": "stderr",
     "output_type": "stream",
     "text": [
      "C:\\Users\\kushp\\anaconda3\\New folder (2)\\lib\\site-packages\\seaborn\\distributions.py:2619: FutureWarning: `distplot` is a deprecated function and will be removed in a future version. Please adapt your code to use either `displot` (a figure-level function with similar flexibility) or `histplot` (an axes-level function for histograms).\n",
      "  warnings.warn(msg, FutureWarning)\n"
     ]
    },
    {
     "data": {
      "text/plain": [
       "<AxesSubplot:ylabel='Density'>"
      ]
     },
     "execution_count": 196,
     "metadata": {},
     "output_type": "execute_result"
    },
    {
     "data": {
      "image/png": "[encoded data removed]",
      "text/plain": [
       "<Figure size 432x288 with 1 Axes>"
      ]
     },
     "metadata": {
      "needs_background": "light"
     },
     "output_type": "display_data"
    }
   ],
   "source": [
    "sns.distplot(population)"
   ]
  },
  {
   "cell_type": "code",
   "execution_count": 200,
   "id": "0ff39206",
   "metadata": {},
   "outputs": [
    {
     "data": {
      "text/plain": [
       "array([0.74803594, 0.85959512, 0.82929375, 0.83027824, 0.7588261 ,\n",
       "       0.86912818, 1.02287283, 0.6792367 , 0.66691409, 0.68315267,\n",
       "       0.91384704, 0.84086304, 0.73053178, 1.16072709, 0.80204086,\n",
       "       0.88801472, 0.80768823, 0.58128932, 0.75507508, 0.7994119 ,\n",
       "       0.61788028, 0.96579899, 0.95813533, 0.7405137 , 0.78987348,\n",
       "       0.7305118 , 0.91038501, 0.86736788, 0.96270337, 0.78109097,\n",
       "       0.71985611, 0.74873564, 0.86480467, 0.71833795, 0.81800483,\n",
       "       0.59936233, 0.78436007, 0.74355792, 0.73365379, 0.90184966,\n",
       "       0.80192313, 0.89226981, 0.93082935, 0.86399139, 0.57780883,\n",
       "       0.79349767, 0.84806268, 0.77377343, 0.8711147 , 0.73234572,\n",
       "       0.94610737, 0.70314006, 0.8394044 , 0.6931765 , 0.80087617,\n",
       "       0.90966299, 0.79287793, 0.71428167, 0.66620047, 0.51868014,\n",
       "       1.00946645, 0.79563849, 0.87027502, 0.76805003, 0.72371601,\n",
       "       0.99389959, 0.84118251, 0.72304684, 0.81826424, 0.71898908,\n",
       "       0.83440789, 0.93993959, 0.64568244, 0.75443356, 0.73072237,\n",
       "       0.48594837, 0.81231962, 0.62810518, 0.60838467, 0.83143609,\n",
       "       0.9307919 , 0.81409761, 0.6674375 , 0.74906959, 0.76467802,\n",
       "       0.69173045, 0.88365335, 0.71328977, 0.85346849, 0.68906568,\n",
       "       0.92869147, 1.09618398, 0.64240643, 0.69133662, 0.94101783,\n",
       "       0.77522036, 0.8394469 , 0.80527684, 0.93594294, 0.89505017])"
      ]
     },
     "execution_count": 200,
     "metadata": {},
     "output_type": "execute_result"
    }
   ],
   "source": [
    "import random\n",
    "sample1_means=np.array([np.array(random.sample(list(population),k=30)).mean() for _ in range(0,100)])\n",
    "sample1_means"
   ]
  },
  {
   "cell_type": "code",
   "execution_count": 201,
   "id": "2b6b0c05",
   "metadata": {},
   "outputs": [
    {
     "name": "stderr",
     "output_type": "stream",
     "text": [
      "C:\\Users\\kushp\\anaconda3\\New folder (2)\\lib\\site-packages\\seaborn\\distributions.py:2619: FutureWarning: `distplot` is a deprecated function and will be removed in a future version. Please adapt your code to use either `displot` (a figure-level function with similar flexibility) or `histplot` (an axes-level function for histograms).\n",
      "  warnings.warn(msg, FutureWarning)\n"
     ]
    },
    {
     "data": {
      "text/plain": [
       "<AxesSubplot:ylabel='Density'>"
      ]
     },
     "execution_count": 201,
     "metadata": {},
     "output_type": "execute_result"
    },
    {
     "data": {
      "image/png": "[encoded data removed]",
      "text/plain": [
       "<Figure size 432x288 with 1 Axes>"
      ]
     },
     "metadata": {
      "needs_background": "light"
     },
     "output_type": "display_data"
    }
   ],
   "source": [
    "sns.distplot(sample1_means)"
   ]
  },
  {
   "cell_type": "code",
   "execution_count": 202,
   "id": "3d89412f",
   "metadata": {},
   "outputs": [
    {
     "data": {
      "text/plain": [
       "0.7969539478358739"
      ]
     },
     "execution_count": 202,
     "metadata": {},
     "output_type": "execute_result"
    }
   ],
   "source": [
    "sample1_means.mean()"
   ]
  },
  {
   "cell_type": "code",
   "execution_count": 203,
   "id": "5c369ba3",
   "metadata": {},
   "outputs": [
    {
     "data": {
      "text/plain": [
       "0.1175027445105936"
      ]
     },
     "execution_count": 203,
     "metadata": {},
     "output_type": "execute_result"
    }
   ],
   "source": [
    "sample1_means.std()"
   ]
  },
  {
   "cell_type": "code",
   "execution_count": 204,
   "id": "2390156f",
   "metadata": {},
   "outputs": [
    {
     "data": {
      "text/plain": [
       "array([0.81893453, 0.73500249, 0.90407713, 0.84577352, 1.01862181,\n",
       "       0.65466776, 0.71461642, 0.74911421, 0.83340814, 0.75210305,\n",
       "       0.89293508, 0.76186269, 0.79145879, 0.81086324, 0.76149647,\n",
       "       0.73817259, 0.8057485 , 0.97951875, 0.88932428, 0.80400663,\n",
       "       0.80270385, 0.84459876, 0.87728361, 0.83791834, 0.75308489,\n",
       "       0.74378333, 0.68559941, 0.68014488, 0.89368657, 0.82962793,\n",
       "       0.86440664, 0.77865948, 0.76873546, 0.97071487, 0.91859258,\n",
       "       0.66647643, 0.80223095, 0.72950032, 0.74504379, 0.67484045,\n",
       "       0.75120877, 0.7952736 , 0.75402729, 0.85676077, 0.80202081,\n",
       "       0.77545194, 0.8728873 , 0.76922484, 0.71036527, 0.97263017,\n",
       "       0.72427116, 0.689758  , 0.79260983, 0.81790913, 0.85160925,\n",
       "       0.77168583, 0.70734065, 0.76765674, 0.83012625, 0.90663381,\n",
       "       0.75743381, 0.78183845, 0.85902408, 0.8525019 , 0.81669469,\n",
       "       0.78888372, 0.86667669, 0.72704693, 0.77706965, 0.77941329,\n",
       "       0.76053233, 0.66832145, 0.72878844, 0.90357724, 0.74392405,\n",
       "       0.77366244, 0.7374545 , 0.90195   , 0.71773102, 0.89572831,\n",
       "       0.71830269, 0.71804381, 0.72963582, 0.63945109, 0.76414452,\n",
       "       0.6787539 , 0.70332738, 0.86136632, 0.80448513, 0.8559012 ,\n",
       "       0.81189954, 0.78620568, 0.85643019, 0.78466745, 0.68235146,\n",
       "       0.74434349, 0.80888219, 0.91717291, 0.79669223, 0.73730198])"
      ]
     },
     "execution_count": 204,
     "metadata": {},
     "output_type": "execute_result"
    }
   ],
   "source": [
    "sample2_means=np.array([np.array(random.sample(list(population),k=50)).mean() for _ in range(0,100)])\n",
    "sample2_means"
   ]
  },
  {
   "cell_type": "code",
   "execution_count": 205,
   "id": "91a0f1e5",
   "metadata": {},
   "outputs": [
    {
     "name": "stderr",
     "output_type": "stream",
     "text": [
      "C:\\Users\\kushp\\anaconda3\\New folder (2)\\lib\\site-packages\\seaborn\\distributions.py:2619: FutureWarning: `distplot` is a deprecated function and will be removed in a future version. Please adapt your code to use either `displot` (a figure-level function with similar flexibility) or `histplot` (an axes-level function for histograms).\n",
      "  warnings.warn(msg, FutureWarning)\n"
     ]
    },
    {
     "data": {
      "text/plain": [
       "<AxesSubplot:ylabel='Density'>"
      ]
     },
     "execution_count": 205,
     "metadata": {},
     "output_type": "execute_result"
    },
    {
     "data": {
      "image/png": "[encoded data removed]",
      "text/plain": [
       "<Figure size 432x288 with 1 Axes>"
      ]
     },
     "metadata": {
      "needs_background": "light"
     },
     "output_type": "display_data"
    }
   ],
   "source": [
    "sns.distplot(sample2_means)"
   ]
  },
  {
   "cell_type": "code",
   "execution_count": 206,
   "id": "1a044009",
   "metadata": {},
   "outputs": [
    {
     "data": {
      "text/plain": [
       "0.7928640200978103"
      ]
     },
     "execution_count": 206,
     "metadata": {},
     "output_type": "execute_result"
    }
   ],
   "source": [
    "sample2_means.mean()"
   ]
  },
  {
   "cell_type": "code",
   "execution_count": 207,
   "id": "67f5e214",
   "metadata": {},
   "outputs": [
    {
     "data": {
      "text/plain": [
       "0.07692697645588532"
      ]
     },
     "execution_count": 207,
     "metadata": {},
     "output_type": "execute_result"
    }
   ],
   "source": [
    "sample2_means.std()"
   ]
  },
  {
   "cell_type": "code",
   "execution_count": 208,
   "id": "065338f6",
   "metadata": {},
   "outputs": [
    {
     "data": {
      "text/plain": [
       "array([0.74988046, 0.8524868 , 0.82638873, 0.73972282, 0.86433579,\n",
       "       0.6804167 , 0.88273987, 0.82720294, 0.73974382, 0.73044655,\n",
       "       0.7217335 , 0.72891524, 0.72933167, 0.75035613, 0.76918437,\n",
       "       0.89891063, 0.79141494, 0.81491088, 0.84848641, 0.7976351 ,\n",
       "       0.82199693, 0.76504627, 0.76109883, 0.73021403, 0.72438831,\n",
       "       0.78768648, 0.82259143, 0.7860014 , 0.77334236, 0.7886763 ,\n",
       "       0.7537605 , 0.82634878, 0.68816577, 0.83712723, 0.79462969,\n",
       "       0.82791732, 0.86058805, 0.75721732, 0.81774566, 0.87956542,\n",
       "       0.86151326, 0.8437121 , 0.76288785, 0.84462776, 0.93647654,\n",
       "       0.70334086, 0.85012633, 0.79568388, 0.76150873, 0.78328922,\n",
       "       0.8517689 , 0.81027744, 0.94109016, 0.68899076, 0.74327929,\n",
       "       0.86196349, 0.69741903, 0.76338445, 0.68846033, 0.80113826,\n",
       "       0.89466384, 0.75320054, 0.82139835, 0.86302996, 0.59207335,\n",
       "       0.85771248, 0.99359846, 0.79006642, 0.85817165, 0.75146437,\n",
       "       0.74718455, 0.71698637, 0.97437399, 0.83424636, 0.85386067,\n",
       "       0.80834582, 0.66029214, 0.76204743, 0.71377819, 0.74637854,\n",
       "       0.80154742, 0.76418278, 0.87671423, 0.76788771, 0.89613898,\n",
       "       0.87083915, 0.80667694, 0.72395961, 0.79563338, 0.78901987,\n",
       "       0.78574784, 0.84760953, 0.71245151, 0.78828986, 0.8089438 ,\n",
       "       0.7149984 , 0.88962362, 0.85355655, 0.79586989, 0.72638127])"
      ]
     },
     "execution_count": 208,
     "metadata": {},
     "output_type": "execute_result"
    }
   ],
   "source": [
    "sample3_means=np.array([np.array(random.sample(list(population),k=100)).mean() for _ in range(0,100)])\n",
    "sample3_means"
   ]
  },
  {
   "cell_type": "code",
   "execution_count": 209,
   "id": "69466fbb",
   "metadata": {},
   "outputs": [
    {
     "name": "stderr",
     "output_type": "stream",
     "text": [
      "C:\\Users\\kushp\\anaconda3\\New folder (2)\\lib\\site-packages\\seaborn\\distributions.py:2619: FutureWarning: `distplot` is a deprecated function and will be removed in a future version. Please adapt your code to use either `displot` (a figure-level function with similar flexibility) or `histplot` (an axes-level function for histograms).\n",
      "  warnings.warn(msg, FutureWarning)\n"
     ]
    },
    {
     "data": {
      "text/plain": [
       "<AxesSubplot:ylabel='Density'>"
      ]
     },
     "execution_count": 209,
     "metadata": {},
     "output_type": "execute_result"
    },
    {
     "data": {
      "image/png": "[encoded data removed]",
      "text/plain": [
       "<Figure size 432x288 with 1 Axes>"
      ]
     },
     "metadata": {
      "needs_background": "light"
     },
     "output_type": "display_data"
    }
   ],
   "source": [
    "sns.distplot(sample3_means)"
   ]
  },
  {
   "cell_type": "code",
   "execution_count": 210,
   "id": "44d88bba",
   "metadata": {},
   "outputs": [
    {
     "data": {
      "text/plain": [
       "0.7954823588903019"
      ]
     },
     "execution_count": 210,
     "metadata": {},
     "output_type": "execute_result"
    }
   ],
   "source": [
    "sample3_means.mean()"
   ]
  },
  {
   "cell_type": "code",
   "execution_count": 211,
   "id": "ed6d6988",
   "metadata": {},
   "outputs": [
    {
     "data": {
      "text/plain": [
       "0.0685752671730044"
      ]
     },
     "execution_count": 211,
     "metadata": {},
     "output_type": "execute_result"
    }
   ],
   "source": [
    "sample3_means.std()"
   ]
  },
  {
   "cell_type": "code",
   "execution_count": 212,
   "id": "bbb8c5b2",
   "metadata": {},
   "outputs": [
    {
     "data": {
      "text/plain": [
       "array([0.83585817, 0.84014203, 0.76438008, 0.83340758, 0.79779858,\n",
       "       0.79683111, 0.80869362, 0.79078382, 0.79750421, 0.80042838,\n",
       "       0.77898455, 0.78444638, 0.7835311 , 0.80093535, 0.76000767,\n",
       "       0.82227591, 0.72879405, 0.78265278, 0.82141868, 0.85326249,\n",
       "       0.79785975, 0.79344217, 0.79293734, 0.81295798, 0.78789958,\n",
       "       0.75299153, 0.83382876, 0.76845151, 0.86456256, 0.84898033,\n",
       "       0.81666257, 0.81624247, 0.77839545, 0.81254992, 0.75695366,\n",
       "       0.76380222, 0.81513475, 0.78088352, 0.75529906, 0.78307963,\n",
       "       0.79807762, 0.799723  , 0.77288099, 0.81161732, 0.80273402,\n",
       "       0.77506324, 0.81060894, 0.78660986, 0.79336475, 0.8009165 ,\n",
       "       0.81483819, 0.8570055 , 0.82672215, 0.80768634, 0.77202827,\n",
       "       0.7829617 , 0.80539527, 0.84347429, 0.78466697, 0.80613008,\n",
       "       0.78673365, 0.74057404, 0.7964545 , 0.81361413, 0.78054096,\n",
       "       0.82841437, 0.81410188, 0.80976375, 0.7779659 , 0.79088618,\n",
       "       0.83691352, 0.77866776, 0.83258369, 0.80966782, 0.79319822,\n",
       "       0.82987996, 0.80918418, 0.81500715, 0.77111204, 0.80464716,\n",
       "       0.83069168, 0.79852463, 0.78436873, 0.81599278, 0.81248703,\n",
       "       0.79228583, 0.80902626, 0.75999876, 0.79041158, 0.82523879,\n",
       "       0.79526196, 0.81109924, 0.80192853, 0.81334388, 0.8138097 ,\n",
       "       0.75239826, 0.82126698, 0.81773121, 0.78795246, 0.82776227])"
      ]
     },
     "execution_count": 212,
     "metadata": {},
     "output_type": "execute_result"
    }
   ],
   "source": [
    "sample4_means=np.array([np.array(random.sample(list(population),k=500)).mean() for _ in range(0,100)])\n",
    "sample4_means"
   ]
  },
  {
   "cell_type": "code",
   "execution_count": 213,
   "id": "393d8fd4",
   "metadata": {},
   "outputs": [
    {
     "name": "stderr",
     "output_type": "stream",
     "text": [
      "C:\\Users\\kushp\\anaconda3\\New folder (2)\\lib\\site-packages\\seaborn\\distributions.py:2619: FutureWarning: `distplot` is a deprecated function and will be removed in a future version. Please adapt your code to use either `displot` (a figure-level function with similar flexibility) or `histplot` (an axes-level function for histograms).\n",
      "  warnings.warn(msg, FutureWarning)\n"
     ]
    },
    {
     "data": {
      "text/plain": [
       "<AxesSubplot:ylabel='Density'>"
      ]
     },
     "execution_count": 213,
     "metadata": {},
     "output_type": "execute_result"
    },
    {
     "data": {
      "image/png": "[encoded data removed]",
      "text/plain": [
       "<Figure size 432x288 with 1 Axes>"
      ]
     },
     "metadata": {
      "needs_background": "light"
     },
     "output_type": "display_data"
    }
   ],
   "source": [
    "sns.distplot(sample4_means)"
   ]
  },
  {
   "cell_type": "code",
   "execution_count": 214,
   "id": "934baa3b",
   "metadata": {},
   "outputs": [
    {
     "data": {
      "text/plain": [
       "0.8004904766723305"
      ]
     },
     "execution_count": 214,
     "metadata": {},
     "output_type": "execute_result"
    }
   ],
   "source": [
    "sample4_means.mean()"
   ]
  },
  {
   "cell_type": "code",
   "execution_count": 215,
   "id": "16daf37a",
   "metadata": {},
   "outputs": [
    {
     "data": {
      "text/plain": [
       "0.025418655137789705"
      ]
     },
     "execution_count": 215,
     "metadata": {},
     "output_type": "execute_result"
    }
   ],
   "source": [
    "sample4_means.std()"
   ]
  },
  {
   "cell_type": "code",
   "execution_count": 216,
   "id": "03e1bf27",
   "metadata": {},
   "outputs": [
    {
     "data": {
      "text/plain": [
       "0.1103221601596031"
      ]
     },
     "execution_count": 216,
     "metadata": {},
     "output_type": "execute_result"
    }
   ],
   "source": [
    "#STANDARD ERROR\n",
    "    \n",
    "se1=population.std()/np.sqrt(30)\n",
    "se1"
   ]
  },
  {
   "cell_type": "code",
   "execution_count": 217,
   "id": "ebb23155",
   "metadata": {},
   "outputs": [
    {
     "data": {
      "text/plain": [
       "0.08545517780315404"
      ]
     },
     "execution_count": 217,
     "metadata": {},
     "output_type": "execute_result"
    }
   ],
   "source": [
    "se2=population.std()/np.sqrt(50)\n",
    "se2"
   ]
  },
  {
   "cell_type": "code",
   "execution_count": 218,
   "id": "1e3965ca",
   "metadata": {},
   "outputs": [
    {
     "data": {
      "text/plain": [
       "0.060425935712112355"
      ]
     },
     "execution_count": 218,
     "metadata": {},
     "output_type": "execute_result"
    }
   ],
   "source": [
    "se3=population.std()/np.sqrt(100)\n",
    "se3"
   ]
  },
  {
   "cell_type": "code",
   "execution_count": 219,
   "id": "0887bab1",
   "metadata": {},
   "outputs": [
    {
     "data": {
      "text/plain": [
       "0.027023299971263078"
      ]
     },
     "execution_count": 219,
     "metadata": {},
     "output_type": "execute_result"
    }
   ],
   "source": [
    "se4=population.std()/np.sqrt(500)\n",
    "se4"
   ]
  },
  {
   "cell_type": "markdown",
   "id": "a499a330",
   "metadata": {},
   "source": [
    "INFERENCE:\n",
    "\n",
    "FROM THE VISUALISATION:\n",
    "The population distribution is not normal (positively skewed-right side) but sampling distribution is approximately normal for each sample size. As number of times the samples are drawn from the population the distribution will be normal.\n",
    "\n",
    "If we draw the sampling distribution irrespective of population distribution it will follow normal distribution for sample size more than 30.\n",
    "\n",
    "FROM THE EACH SAMPLE_MEAN(MEAN AND STANDARD DEVIATION):\n",
    "The mean of sample_mean is approximately equal to the population mean but the standard deviation of each sample_mean is differing for different sample size. As increasing the sample size it started following normal distribution.\n",
    "\n",
    "In sample3_means both sample size and drawn samples are equal (k=100 and range=100) ,the mean are equal but standard deviation is different(approximately equal).\n",
    "\n",
    "Standard Error- standard deviation of sampling distribution is approximately estimated as sigma by root n.\n"
   ]
  },
  {
   "cell_type": "code",
   "execution_count": 40,
   "id": "b5b5a507",
   "metadata": {},
   "outputs": [
    {
     "name": "stdout",
     "output_type": "stream",
     "text": [
      "169.9948483413929 170.0051516586071\n"
     ]
    }
   ],
   "source": [
    "#8)-a)[FORMULA:- CI=xbar+-zalphaby2*sigma/sqrt(n)]\n",
    "\n",
    "import random\n",
    "mean=170\n",
    "n=100\n",
    "sigma=0.02\n",
    "alpha=1-0.99  # 1-confidence level\n",
    "z_alpha=st.norm.isf(alpha/2)\n",
    "standard_error=sigma/np.sqrt(n)\n",
    "margin_error=z_alpha*standard_error\n",
    "lower_limit= mean - margin_error\n",
    "upper_limit= mean + margin_error\n",
    "print(lower_limit,upper_limit)\n"
   ]
  },
  {
   "cell_type": "code",
   "execution_count": 41,
   "id": "7ebff146",
   "metadata": {},
   "outputs": [
    {
     "name": "stdout",
     "output_type": "stream",
     "text": [
      "169.9960800720309 170.0039199279691\n"
     ]
    }
   ],
   "source": [
    "#8)-b)\n",
    "\n",
    "import random\n",
    "mean=170\n",
    "n=100\n",
    "sigma=0.02\n",
    "alpha=1-0.95  # 1-confidence level\n",
    "z_alpha=st.norm.isf(alpha/2)\n",
    "standard_error=sigma/np.sqrt(n)\n",
    "margin_error=z_alpha*standard_error\n",
    "lower_limit= mean - margin_error\n",
    "upper_limit= mean + margin_error\n",
    "print(lower_limit,upper_limit)"
   ]
  },
  {
   "cell_type": "markdown",
   "id": "72353fd2",
   "metadata": {},
   "source": [
    "8)-c) INFERENCE FOR BOTH a) and b):\n",
    "\n",
    "The pencil length lies between 169.99 to 170.00 that is for the selected random sample the length of pencil doesn't exceed 172mm. Hence at this periodic intervals it doesn't need to meet the quality standards set by the company.  \n"
   ]
  },
  {
   "cell_type": "code",
   "execution_count": null,
   "id": "bd796521",
   "metadata": {},
   "outputs": [],
   "source": []
  }
 ],
 "metadata": {
  "kernelspec": {
   "display_name": "Python 3 (ipykernel)",
   "language": "python",
   "name": "python3"
  },
  "language_info": {
   "codemirror_mode": {
    "name": "ipython",
    "version": 3
   },
   "file_extension": ".py",
   "mimetype": "text/x-python",
   "name": "python",
   "nbconvert_exporter": "python",
   "pygments_lexer": "ipython3",
   "version": "3.9.12"
  }
 },
 "nbformat": 4,
 "nbformat_minor": 5
}
