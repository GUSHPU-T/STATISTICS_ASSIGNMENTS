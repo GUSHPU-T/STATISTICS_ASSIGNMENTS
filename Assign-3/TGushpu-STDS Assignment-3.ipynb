{
 "cells": [
  {
   "cell_type": "code",
   "execution_count": 69,
   "id": "372285ad",
   "metadata": {},
   "outputs": [],
   "source": [
    "import pandas as pd\n",
    "import numpy as np\n",
    "import seaborn as sns\n",
    "import matplotlib.pyplot as plt\n",
    "import scipy.stats as st\n",
    "from statsmodels.formula.api import ols\n",
    "from statsmodels.stats.anova import anova_lm"
   ]
  },
  {
   "cell_type": "markdown",
   "id": "d64c61a1",
   "metadata": {},
   "source": [
    "# An E-Commerce company wants to find the factors influence the sales of the mobile Phone.\n",
    "\n",
    "\n",
    "# Use your EDA techniques and statistical hypothesis techniques and find the factors which influences the sales of the mobile phones.\n"
   ]
  },
  {
   "cell_type": "code",
   "execution_count": 2,
   "id": "65737e95",
   "metadata": {},
   "outputs": [],
   "source": [
    "df=pd.read_csv(r\"C:\\STAT ASSIGNMENT\\stat assignment.csv\")"
   ]
  },
  {
   "cell_type": "code",
   "execution_count": 3,
   "id": "dcb4d03e",
   "metadata": {},
   "outputs": [
    {
     "data": {
      "text/html": [
       "<div>\n",
       "<style scoped>\n",
       "    .dataframe tbody tr th:only-of-type {\n",
       "        vertical-align: middle;\n",
       "    }\n",
       "\n",
       "    .dataframe tbody tr th {\n",
       "        vertical-align: top;\n",
       "    }\n",
       "\n",
       "    .dataframe thead th {\n",
       "        text-align: right;\n",
       "    }\n",
       "</style>\n",
       "<table border=\"1\" class=\"dataframe\">\n",
       "  <thead>\n",
       "    <tr style=\"text-align: right;\">\n",
       "      <th></th>\n",
       "      <th>brand</th>\n",
       "      <th>model</th>\n",
       "      <th>base_color</th>\n",
       "      <th>processor</th>\n",
       "      <th>screen_size</th>\n",
       "      <th>ROM</th>\n",
       "      <th>RAM</th>\n",
       "      <th>display_size</th>\n",
       "      <th>num_rear_camera</th>\n",
       "      <th>num_front_camera</th>\n",
       "      <th>battery_capacity</th>\n",
       "      <th>ratings</th>\n",
       "      <th>num_of_ratings</th>\n",
       "      <th>sales_price</th>\n",
       "      <th>discount_percent</th>\n",
       "      <th>sales</th>\n",
       "    </tr>\n",
       "  </thead>\n",
       "  <tbody>\n",
       "    <tr>\n",
       "      <th>0</th>\n",
       "      <td>Apple</td>\n",
       "      <td>iPhone SE</td>\n",
       "      <td>Black</td>\n",
       "      <td>Water</td>\n",
       "      <td>Very Small</td>\n",
       "      <td>64</td>\n",
       "      <td>2</td>\n",
       "      <td>4.7</td>\n",
       "      <td>1</td>\n",
       "      <td>1</td>\n",
       "      <td>1800</td>\n",
       "      <td>4.5</td>\n",
       "      <td>38645</td>\n",
       "      <td>32999</td>\n",
       "      <td>0.17</td>\n",
       "      <td>127.52</td>\n",
       "    </tr>\n",
       "    <tr>\n",
       "      <th>1</th>\n",
       "      <td>Apple</td>\n",
       "      <td>iPhone 12 Mini</td>\n",
       "      <td>Red</td>\n",
       "      <td>Ceramic</td>\n",
       "      <td>Small</td>\n",
       "      <td>64</td>\n",
       "      <td>4</td>\n",
       "      <td>5.4</td>\n",
       "      <td>2</td>\n",
       "      <td>1</td>\n",
       "      <td>2815</td>\n",
       "      <td>4.5</td>\n",
       "      <td>244</td>\n",
       "      <td>57149</td>\n",
       "      <td>0.04</td>\n",
       "      <td>1.39</td>\n",
       "    </tr>\n",
       "    <tr>\n",
       "      <th>2</th>\n",
       "      <td>Apple</td>\n",
       "      <td>iPhone SE</td>\n",
       "      <td>Red</td>\n",
       "      <td>Water</td>\n",
       "      <td>Very Small</td>\n",
       "      <td>64</td>\n",
       "      <td>2</td>\n",
       "      <td>4.7</td>\n",
       "      <td>1</td>\n",
       "      <td>1</td>\n",
       "      <td>1800</td>\n",
       "      <td>4.5</td>\n",
       "      <td>38645</td>\n",
       "      <td>32999</td>\n",
       "      <td>0.17</td>\n",
       "      <td>127.52</td>\n",
       "    </tr>\n",
       "    <tr>\n",
       "      <th>3</th>\n",
       "      <td>Apple</td>\n",
       "      <td>iPhone XR</td>\n",
       "      <td>Others</td>\n",
       "      <td>iOS</td>\n",
       "      <td>Medium</td>\n",
       "      <td>64</td>\n",
       "      <td>3</td>\n",
       "      <td>6.1</td>\n",
       "      <td>1</td>\n",
       "      <td>1</td>\n",
       "      <td>2942</td>\n",
       "      <td>4.6</td>\n",
       "      <td>5366</td>\n",
       "      <td>42999</td>\n",
       "      <td>0.10</td>\n",
       "      <td>23.07</td>\n",
       "    </tr>\n",
       "    <tr>\n",
       "      <th>4</th>\n",
       "      <td>Apple</td>\n",
       "      <td>iPhone 12</td>\n",
       "      <td>Red</td>\n",
       "      <td>Ceramic</td>\n",
       "      <td>Medium</td>\n",
       "      <td>128</td>\n",
       "      <td>4</td>\n",
       "      <td>6.1</td>\n",
       "      <td>2</td>\n",
       "      <td>1</td>\n",
       "      <td>2815</td>\n",
       "      <td>4.6</td>\n",
       "      <td>745</td>\n",
       "      <td>69149</td>\n",
       "      <td>0.02</td>\n",
       "      <td>5.15</td>\n",
       "    </tr>\n",
       "  </tbody>\n",
       "</table>\n",
       "</div>"
      ],
      "text/plain": [
       "   brand           model base_color processor screen_size  ROM  RAM  \\\n",
       "0  Apple       iPhone SE      Black     Water  Very Small   64    2   \n",
       "1  Apple  iPhone 12 Mini        Red   Ceramic       Small   64    4   \n",
       "2  Apple       iPhone SE        Red     Water  Very Small   64    2   \n",
       "3  Apple       iPhone XR     Others       iOS      Medium   64    3   \n",
       "4  Apple       iPhone 12        Red   Ceramic      Medium  128    4   \n",
       "\n",
       "   display_size  num_rear_camera  num_front_camera  battery_capacity  ratings  \\\n",
       "0           4.7                1                 1              1800      4.5   \n",
       "1           5.4                2                 1              2815      4.5   \n",
       "2           4.7                1                 1              1800      4.5   \n",
       "3           6.1                1                 1              2942      4.6   \n",
       "4           6.1                2                 1              2815      4.6   \n",
       "\n",
       "   num_of_ratings  sales_price  discount_percent   sales  \n",
       "0           38645        32999              0.17  127.52  \n",
       "1             244        57149              0.04    1.39  \n",
       "2           38645        32999              0.17  127.52  \n",
       "3            5366        42999              0.10   23.07  \n",
       "4             745        69149              0.02    5.15  "
      ]
     },
     "execution_count": 3,
     "metadata": {},
     "output_type": "execute_result"
    }
   ],
   "source": [
    "df.head()"
   ]
  },
  {
   "cell_type": "code",
   "execution_count": 4,
   "id": "28873c56",
   "metadata": {},
   "outputs": [
    {
     "data": {
      "text/plain": [
       "(430, 16)"
      ]
     },
     "execution_count": 4,
     "metadata": {},
     "output_type": "execute_result"
    }
   ],
   "source": [
    "df.shape"
   ]
  },
  {
   "cell_type": "markdown",
   "id": "ed7680db",
   "metadata": {},
   "source": [
    "The table contains 430 rows and 16 columns."
   ]
  },
  {
   "cell_type": "markdown",
   "id": "33f434b9",
   "metadata": {},
   "source": [
    "# The provided dataset consists of the informations below:\n",
    "\n",
    "1. Demographic information about the sales of mobiles with respect to ratings given by the customers and number of ratings count of customers.\n",
    "\n",
    "2. The sales of mobile phone brand names and models are valuable assets that help correspond quality and suggest precise knowledge structures which related to the brand. The brand names includes Realme, Samsung, Xiaomi, Apple and Poco. The model of mobile phones are 119 is presented in the given dataset.\n",
    "\n",
    "3. The mobile phone features is an attribute of a product to meet the satisfaction level of customer's needs and wants, through owning of the product, usage, and utilization of a mobile phones. Mobile phone features includes base_color, processor,\tscreen_size, ROM, RAM, display_size, num_rear_camera, num_front_camera and battery_capacity.\n",
    "\n",
    "4. Price of mobile phones that is sales_price is the amount of money charged for a mobile or sum of values that customers exchange for benefits of having or using the mobile. Which is influenced by the discount_percent and number of sales of each mobile phones.\n",
    "\n"
   ]
  },
  {
   "cell_type": "markdown",
   "id": "58f376aa",
   "metadata": {},
   "source": [
    "# Categorical data:\n",
    "\n",
    "1. brand               \n",
    "2. model               \n",
    "3. base_color          \n",
    "4. processor           \n",
    "5. screen_size\n",
    "    \n",
    "# Numerical data:\n",
    "\n",
    "1. ROM                 \n",
    "2. RAM                 \n",
    "3. display_size        \n",
    "4. num_rear_camera     \n",
    "5. num_front_camera    \n",
    "6. battery_capacity    \n",
    "7. ratings             \n",
    "8. num_of_ratings      \n",
    "9. sales_price         \n",
    "10. discount_percent    \n",
    "11. sales        "
   ]
  },
  {
   "cell_type": "markdown",
   "id": "a8c8d9db",
   "metadata": {},
   "source": [
    "# Objective and introduction to problem statement:\n",
    "    \n",
    "The present study tries to explore the factors influence the sales of mobiles in E-commerce company.\n",
    "\n",
    "The study also attempts to find out if there is any significant effect of product features, brand, and perceived price on sales of mobile phone brand and social influences(rating) has any significant impact on sales of mobile phones.\n"
   ]
  },
  {
   "cell_type": "markdown",
   "id": "83a4c95d",
   "metadata": {},
   "source": [
    "# Hypothesis generation with respect to problem statement:\n",
    "\n",
    "1. To verify brand is influenced by the sales_price of mobile phones.\n",
    "\n",
    "2. The company claims that the number of ratings of mobile phone impacts the sales.\n",
    "\n",
    "3. To verify that the sales of mobile phone is influenced by brand or processor or both.\n",
    "\n",
    "4. The company claims that the battery_capacity impact the sales.\n",
    "\n",
    "5. The company claims that the RAM of mobile phones affects the sales.\n",
    "\n",
    "6. The company claims that the ROM of mobile phones affects the sales.\n",
    "\n",
    "7. To verify discount_percent affects the sales of mobile phones.\n",
    "\n",
    "8. To verify base_color affects the sales of mobile phones.\n"
   ]
  },
  {
   "cell_type": "markdown",
   "id": "240edff4",
   "metadata": {},
   "source": [
    "# EDA techniques:\n",
    "\n",
    "1. Drop duplicates\n",
    "2. Extract important variables\n",
    "3. Detect missing values,outliers and anomalies.\n",
    "4. Test underlying assumptions\n",
    "5. Statistical graphics and data visualization methods.\n"
   ]
  },
  {
   "cell_type": "markdown",
   "id": "48350690",
   "metadata": {},
   "source": [
    "# Statistical hypothesis techniques:\n",
    "\n",
    "Parametric test: Follows certain assumptions and results will be accurate.\n",
    "\n",
    "1. t-test\n",
    "2. z-test\n",
    "3. Paired t-test\n",
    "4. One way ANOVA\n",
    "5. Two way ANOVA\n",
    "\n",
    "Non-parametric test: No need to follow assumptions and results may not be accurate(test of median):\n",
    "\n",
    "1. Wilcoxon \n",
    "2. Mann whitney\n",
    "3. Kruskal-Wallis test\n",
    "4. Friedman\n",
    "5. Chi-square test of independence\n"
   ]
  },
  {
   "cell_type": "markdown",
   "id": "b652c7cc",
   "metadata": {},
   "source": [
    "# Performing EDA"
   ]
  },
  {
   "cell_type": "code",
   "execution_count": 5,
   "id": "7212a8e6",
   "metadata": {},
   "outputs": [
    {
     "data": {
      "text/plain": [
       "brand               0\n",
       "model               0\n",
       "base_color          0\n",
       "processor           0\n",
       "screen_size         0\n",
       "ROM                 0\n",
       "RAM                 0\n",
       "display_size        0\n",
       "num_rear_camera     0\n",
       "num_front_camera    0\n",
       "battery_capacity    0\n",
       "ratings             0\n",
       "num_of_ratings      0\n",
       "sales_price         0\n",
       "discount_percent    0\n",
       "sales               0\n",
       "dtype: int64"
      ]
     },
     "execution_count": 5,
     "metadata": {},
     "output_type": "execute_result"
    }
   ],
   "source": [
    "df.isnull().sum()"
   ]
  },
  {
   "cell_type": "raw",
   "id": "3b2bc701",
   "metadata": {},
   "source": [
    "From the given data we do not have any null values."
   ]
  },
  {
   "cell_type": "code",
   "execution_count": 6,
   "id": "d47fa57e",
   "metadata": {},
   "outputs": [
    {
     "data": {
      "text/plain": [
       "0"
      ]
     },
     "execution_count": 6,
     "metadata": {},
     "output_type": "execute_result"
    }
   ],
   "source": [
    "df.duplicated().sum()"
   ]
  },
  {
   "cell_type": "raw",
   "id": "77514016",
   "metadata": {},
   "source": [
    "From the given data we do not have any duplicate values, hence we can proceed to EDA."
   ]
  },
  {
   "cell_type": "code",
   "execution_count": 7,
   "id": "5c43eef9",
   "metadata": {},
   "outputs": [
    {
     "name": "stdout",
     "output_type": "stream",
     "text": [
      "<class 'pandas.core.frame.DataFrame'>\n",
      "RangeIndex: 430 entries, 0 to 429\n",
      "Data columns (total 16 columns):\n",
      " #   Column            Non-Null Count  Dtype  \n",
      "---  ------            --------------  -----  \n",
      " 0   brand             430 non-null    object \n",
      " 1   model             430 non-null    object \n",
      " 2   base_color        430 non-null    object \n",
      " 3   processor         430 non-null    object \n",
      " 4   screen_size       430 non-null    object \n",
      " 5   ROM               430 non-null    int64  \n",
      " 6   RAM               430 non-null    int64  \n",
      " 7   display_size      430 non-null    float64\n",
      " 8   num_rear_camera   430 non-null    int64  \n",
      " 9   num_front_camera  430 non-null    int64  \n",
      " 10  battery_capacity  430 non-null    int64  \n",
      " 11  ratings           430 non-null    float64\n",
      " 12  num_of_ratings    430 non-null    int64  \n",
      " 13  sales_price       430 non-null    int64  \n",
      " 14  discount_percent  430 non-null    float64\n",
      " 15  sales             430 non-null    float64\n",
      "dtypes: float64(4), int64(7), object(5)\n",
      "memory usage: 53.9+ KB\n"
     ]
    }
   ],
   "source": [
    "df.info()"
   ]
  },
  {
   "cell_type": "raw",
   "id": "d41dd219",
   "metadata": {},
   "source": [
    "We do not have any missing data and our data-types are in order. The majority of our data are of 'integer' and 'float' type, our numerical data. "
   ]
  },
  {
   "cell_type": "code",
   "execution_count": 8,
   "id": "16155321",
   "metadata": {},
   "outputs": [
    {
     "data": {
      "text/plain": [
       "Index(['brand', 'model', 'base_color', 'processor', 'screen_size', 'ROM',\n",
       "       'RAM', 'display_size', 'num_rear_camera', 'num_front_camera',\n",
       "       'battery_capacity', 'ratings', 'num_of_ratings', 'sales_price',\n",
       "       'discount_percent', 'sales'],\n",
       "      dtype='object')"
      ]
     },
     "execution_count": 8,
     "metadata": {},
     "output_type": "execute_result"
    }
   ],
   "source": [
    "df.columns"
   ]
  },
  {
   "cell_type": "markdown",
   "id": "d199d692",
   "metadata": {},
   "source": [
    "In the given data there are 16 columns."
   ]
  },
  {
   "cell_type": "code",
   "execution_count": 9,
   "id": "fe382835",
   "metadata": {},
   "outputs": [],
   "source": [
    "df['sales']=df['sales'].astype('int')"
   ]
  },
  {
   "cell_type": "code",
   "execution_count": 10,
   "id": "1c30ed0a",
   "metadata": {},
   "outputs": [
    {
     "data": {
      "text/html": [
       "<div>\n",
       "<style scoped>\n",
       "    .dataframe tbody tr th:only-of-type {\n",
       "        vertical-align: middle;\n",
       "    }\n",
       "\n",
       "    .dataframe tbody tr th {\n",
       "        vertical-align: top;\n",
       "    }\n",
       "\n",
       "    .dataframe thead th {\n",
       "        text-align: right;\n",
       "    }\n",
       "</style>\n",
       "<table border=\"1\" class=\"dataframe\">\n",
       "  <thead>\n",
       "    <tr style=\"text-align: right;\">\n",
       "      <th></th>\n",
       "      <th>count</th>\n",
       "      <th>mean</th>\n",
       "      <th>std</th>\n",
       "      <th>min</th>\n",
       "      <th>25%</th>\n",
       "      <th>50%</th>\n",
       "      <th>75%</th>\n",
       "      <th>max</th>\n",
       "    </tr>\n",
       "  </thead>\n",
       "  <tbody>\n",
       "    <tr>\n",
       "      <th>ROM</th>\n",
       "      <td>430.0</td>\n",
       "      <td>105.748837</td>\n",
       "      <td>63.164064</td>\n",
       "      <td>8.00</td>\n",
       "      <td>64.00</td>\n",
       "      <td>128.00</td>\n",
       "      <td>128.00</td>\n",
       "      <td>512.00</td>\n",
       "    </tr>\n",
       "    <tr>\n",
       "      <th>RAM</th>\n",
       "      <td>430.0</td>\n",
       "      <td>5.320930</td>\n",
       "      <td>2.182635</td>\n",
       "      <td>1.00</td>\n",
       "      <td>4.00</td>\n",
       "      <td>4.00</td>\n",
       "      <td>6.00</td>\n",
       "      <td>12.00</td>\n",
       "    </tr>\n",
       "    <tr>\n",
       "      <th>display_size</th>\n",
       "      <td>430.0</td>\n",
       "      <td>6.369767</td>\n",
       "      <td>0.369549</td>\n",
       "      <td>4.70</td>\n",
       "      <td>6.30</td>\n",
       "      <td>6.50</td>\n",
       "      <td>6.50</td>\n",
       "      <td>7.60</td>\n",
       "    </tr>\n",
       "    <tr>\n",
       "      <th>num_rear_camera</th>\n",
       "      <td>430.0</td>\n",
       "      <td>2.904651</td>\n",
       "      <td>0.952350</td>\n",
       "      <td>1.00</td>\n",
       "      <td>2.00</td>\n",
       "      <td>3.00</td>\n",
       "      <td>4.00</td>\n",
       "      <td>4.00</td>\n",
       "    </tr>\n",
       "    <tr>\n",
       "      <th>num_front_camera</th>\n",
       "      <td>430.0</td>\n",
       "      <td>1.044186</td>\n",
       "      <td>0.227280</td>\n",
       "      <td>1.00</td>\n",
       "      <td>1.00</td>\n",
       "      <td>1.00</td>\n",
       "      <td>1.00</td>\n",
       "      <td>3.00</td>\n",
       "    </tr>\n",
       "    <tr>\n",
       "      <th>battery_capacity</th>\n",
       "      <td>430.0</td>\n",
       "      <td>4529.397674</td>\n",
       "      <td>986.907252</td>\n",
       "      <td>1800.00</td>\n",
       "      <td>4000.00</td>\n",
       "      <td>4500.00</td>\n",
       "      <td>5000.00</td>\n",
       "      <td>7000.00</td>\n",
       "    </tr>\n",
       "    <tr>\n",
       "      <th>ratings</th>\n",
       "      <td>430.0</td>\n",
       "      <td>4.339302</td>\n",
       "      <td>0.151494</td>\n",
       "      <td>3.00</td>\n",
       "      <td>4.30</td>\n",
       "      <td>4.30</td>\n",
       "      <td>4.40</td>\n",
       "      <td>4.60</td>\n",
       "    </tr>\n",
       "    <tr>\n",
       "      <th>num_of_ratings</th>\n",
       "      <td>430.0</td>\n",
       "      <td>23567.944186</td>\n",
       "      <td>56096.277784</td>\n",
       "      <td>4.00</td>\n",
       "      <td>745.00</td>\n",
       "      <td>5197.50</td>\n",
       "      <td>21089.25</td>\n",
       "      <td>642373.00</td>\n",
       "    </tr>\n",
       "    <tr>\n",
       "      <th>sales_price</th>\n",
       "      <td>430.0</td>\n",
       "      <td>25433.234884</td>\n",
       "      <td>22471.926588</td>\n",
       "      <td>5742.00</td>\n",
       "      <td>11999.00</td>\n",
       "      <td>16989.50</td>\n",
       "      <td>28999.00</td>\n",
       "      <td>157999.00</td>\n",
       "    </tr>\n",
       "    <tr>\n",
       "      <th>discount_percent</th>\n",
       "      <td>430.0</td>\n",
       "      <td>0.108000</td>\n",
       "      <td>0.073432</td>\n",
       "      <td>0.01</td>\n",
       "      <td>0.06</td>\n",
       "      <td>0.09</td>\n",
       "      <td>0.16</td>\n",
       "      <td>0.44</td>\n",
       "    </tr>\n",
       "    <tr>\n",
       "      <th>sales</th>\n",
       "      <td>430.0</td>\n",
       "      <td>29.281395</td>\n",
       "      <td>58.358888</td>\n",
       "      <td>0.00</td>\n",
       "      <td>1.00</td>\n",
       "      <td>9.00</td>\n",
       "      <td>29.00</td>\n",
       "      <td>550.00</td>\n",
       "    </tr>\n",
       "  </tbody>\n",
       "</table>\n",
       "</div>"
      ],
      "text/plain": [
       "                  count          mean           std      min       25%  \\\n",
       "ROM               430.0    105.748837     63.164064     8.00     64.00   \n",
       "RAM               430.0      5.320930      2.182635     1.00      4.00   \n",
       "display_size      430.0      6.369767      0.369549     4.70      6.30   \n",
       "num_rear_camera   430.0      2.904651      0.952350     1.00      2.00   \n",
       "num_front_camera  430.0      1.044186      0.227280     1.00      1.00   \n",
       "battery_capacity  430.0   4529.397674    986.907252  1800.00   4000.00   \n",
       "ratings           430.0      4.339302      0.151494     3.00      4.30   \n",
       "num_of_ratings    430.0  23567.944186  56096.277784     4.00    745.00   \n",
       "sales_price       430.0  25433.234884  22471.926588  5742.00  11999.00   \n",
       "discount_percent  430.0      0.108000      0.073432     0.01      0.06   \n",
       "sales             430.0     29.281395     58.358888     0.00      1.00   \n",
       "\n",
       "                       50%       75%        max  \n",
       "ROM                 128.00    128.00     512.00  \n",
       "RAM                   4.00      6.00      12.00  \n",
       "display_size          6.50      6.50       7.60  \n",
       "num_rear_camera       3.00      4.00       4.00  \n",
       "num_front_camera      1.00      1.00       3.00  \n",
       "battery_capacity   4500.00   5000.00    7000.00  \n",
       "ratings               4.30      4.40       4.60  \n",
       "num_of_ratings     5197.50  21089.25  642373.00  \n",
       "sales_price       16989.50  28999.00  157999.00  \n",
       "discount_percent      0.09      0.16       0.44  \n",
       "sales                 9.00     29.00     550.00  "
      ]
     },
     "execution_count": 10,
     "metadata": {},
     "output_type": "execute_result"
    }
   ],
   "source": [
    "df.describe().T"
   ]
  },
  {
   "cell_type": "markdown",
   "id": "affdf9c4",
   "metadata": {},
   "source": [
    "# INSIGHTS:\n",
    "\n",
    "From the above table we can conclude that numerical data which highlights important features and patterns of mobile phone sales.\n",
    "\n",
    "The average sales of mobile phone with respect to the features RAM and ROM where ROM has the highest average and also average speed of mobile phones RAM. Also the customers prefer to purchase mobile phones with ROM of 128GB and RAM of 4GB.\n",
    "\n",
    "The sales of mobile phones with respect to battery_capacity and sales_price by the E-commerce company influences the sales which gives raise to claim.\n",
    "\n",
    "There is highest variation in number of ratings given by the customers, this may affect the sales of mobile phone.\n",
    "\n",
    "Also sales_price affects the sales of mobile phone with highest variation and sales is not normally distributed.\n"
   ]
  },
  {
   "cell_type": "code",
   "execution_count": 48,
   "id": "506ccee6",
   "metadata": {},
   "outputs": [
    {
     "data": {
      "text/html": [
       "<div>\n",
       "<style scoped>\n",
       "    .dataframe tbody tr th:only-of-type {\n",
       "        vertical-align: middle;\n",
       "    }\n",
       "\n",
       "    .dataframe tbody tr th {\n",
       "        vertical-align: top;\n",
       "    }\n",
       "\n",
       "    .dataframe thead th {\n",
       "        text-align: right;\n",
       "    }\n",
       "</style>\n",
       "<table border=\"1\" class=\"dataframe\">\n",
       "  <thead>\n",
       "    <tr style=\"text-align: right;\">\n",
       "      <th></th>\n",
       "      <th>count</th>\n",
       "      <th>unique</th>\n",
       "      <th>top</th>\n",
       "      <th>freq</th>\n",
       "    </tr>\n",
       "  </thead>\n",
       "  <tbody>\n",
       "    <tr>\n",
       "      <th>brand</th>\n",
       "      <td>430</td>\n",
       "      <td>5</td>\n",
       "      <td>Realme</td>\n",
       "      <td>138</td>\n",
       "    </tr>\n",
       "    <tr>\n",
       "      <th>model</th>\n",
       "      <td>430</td>\n",
       "      <td>119</td>\n",
       "      <td>iPhone XR</td>\n",
       "      <td>18</td>\n",
       "    </tr>\n",
       "    <tr>\n",
       "      <th>base_color</th>\n",
       "      <td>430</td>\n",
       "      <td>12</td>\n",
       "      <td>Blue</td>\n",
       "      <td>117</td>\n",
       "    </tr>\n",
       "    <tr>\n",
       "      <th>processor</th>\n",
       "      <td>430</td>\n",
       "      <td>7</td>\n",
       "      <td>Qualcomm</td>\n",
       "      <td>168</td>\n",
       "    </tr>\n",
       "    <tr>\n",
       "      <th>screen_size</th>\n",
       "      <td>430</td>\n",
       "      <td>5</td>\n",
       "      <td>Large</td>\n",
       "      <td>242</td>\n",
       "    </tr>\n",
       "  </tbody>\n",
       "</table>\n",
       "</div>"
      ],
      "text/plain": [
       "            count unique        top freq\n",
       "brand         430      5     Realme  138\n",
       "model         430    119  iPhone XR   18\n",
       "base_color    430     12       Blue  117\n",
       "processor     430      7   Qualcomm  168\n",
       "screen_size   430      5      Large  242"
      ]
     },
     "execution_count": 48,
     "metadata": {},
     "output_type": "execute_result"
    }
   ],
   "source": [
    "df.describe(include='object').T"
   ]
  },
  {
   "cell_type": "markdown",
   "id": "dcdc864e",
   "metadata": {},
   "source": [
    "# INSIGHTS:\n",
    "\n",
    "Form the above table we can conclude that the categorical data model of mobile phones has 119 models and iPhone XR is mostly prefered by the customers, also Realme brand mobile phone has been saled by the company atmost that highly saled brand and the customers prefer mobile phones with blue color as base color of mobile phone.\n",
    "\n",
    "Customers tend to purchase Qualcomm as their mobile phone processor and also screen_size with large."
   ]
  },
  {
   "cell_type": "markdown",
   "id": "ea8b0d7a",
   "metadata": {},
   "source": [
    "# The distribution of Sales"
   ]
  },
  {
   "cell_type": "code",
   "execution_count": 45,
   "id": "78ef6cd2",
   "metadata": {},
   "outputs": [
    {
     "data": {
      "text/plain": [
       "0      77\n",
       "1      40\n",
       "4      25\n",
       "5      23\n",
       "23     15\n",
       "       ..\n",
       "41      1\n",
       "78      1\n",
       "26      1\n",
       "158     1\n",
       "493     1\n",
       "Name: sales, Length: 80, dtype: int64"
      ]
     },
     "execution_count": 45,
     "metadata": {},
     "output_type": "execute_result"
    }
   ],
   "source": [
    "df.sales.value_counts()"
   ]
  },
  {
   "cell_type": "code",
   "execution_count": 46,
   "id": "d271652e",
   "metadata": {},
   "outputs": [
    {
     "data": {
      "text/plain": [
       "0      0.179070\n",
       "1      0.093023\n",
       "4      0.058140\n",
       "5      0.053488\n",
       "23     0.034884\n",
       "         ...   \n",
       "41     0.002326\n",
       "78     0.002326\n",
       "26     0.002326\n",
       "158    0.002326\n",
       "493    0.002326\n",
       "Name: sales, Length: 80, dtype: float64"
      ]
     },
     "execution_count": 46,
     "metadata": {},
     "output_type": "execute_result"
    }
   ],
   "source": [
    "df.sales.value_counts(normalize=True)"
   ]
  },
  {
   "cell_type": "code",
   "execution_count": 47,
   "id": "b1c90de7",
   "metadata": {},
   "outputs": [
    {
     "data": {
      "text/plain": [
       "<AxesSubplot:xlabel='sales', ylabel='Count'>"
      ]
     },
     "execution_count": 47,
     "metadata": {},
     "output_type": "execute_result"
    },
    {
     "data": {
      "image/png": "[encoded data removed]",
      "text/plain": [
       "<Figure size 432x288 with 1 Axes>"
      ]
     },
     "metadata": {
      "needs_background": "light"
     },
     "output_type": "display_data"
    }
   ],
   "source": [
    "sns.histplot(x='sales',data=df,kde=True)"
   ]
  },
  {
   "cell_type": "markdown",
   "id": "5112a22d",
   "metadata": {},
   "source": [
    "From the above plot we conclude that the sales distribution is not normal, it is positively skewed(right side) and most of the sales of mobile phone is between 0 to 200 has achieved peakness and then the sales has been dropped gradually."
   ]
  },
  {
   "cell_type": "markdown",
   "id": "ca6b5e8f",
   "metadata": {},
   "source": [
    "# Summary table"
   ]
  },
  {
   "cell_type": "code",
   "execution_count": 35,
   "id": "84b568e5",
   "metadata": {},
   "outputs": [
    {
     "data": {
      "text/html": [
       "<div>\n",
       "<style scoped>\n",
       "    .dataframe tbody tr th:only-of-type {\n",
       "        vertical-align: middle;\n",
       "    }\n",
       "\n",
       "    .dataframe tbody tr th {\n",
       "        vertical-align: top;\n",
       "    }\n",
       "\n",
       "    .dataframe thead th {\n",
       "        text-align: right;\n",
       "    }\n",
       "</style>\n",
       "<table border=\"1\" class=\"dataframe\">\n",
       "  <thead>\n",
       "    <tr style=\"text-align: right;\">\n",
       "      <th>processor</th>\n",
       "      <th>Ceramic</th>\n",
       "      <th>Exynos</th>\n",
       "      <th>MediaTek</th>\n",
       "      <th>Others</th>\n",
       "      <th>Qualcomm</th>\n",
       "      <th>Water</th>\n",
       "      <th>iOS</th>\n",
       "      <th>All</th>\n",
       "    </tr>\n",
       "    <tr>\n",
       "      <th>brand</th>\n",
       "      <th></th>\n",
       "      <th></th>\n",
       "      <th></th>\n",
       "      <th></th>\n",
       "      <th></th>\n",
       "      <th></th>\n",
       "      <th></th>\n",
       "      <th></th>\n",
       "    </tr>\n",
       "  </thead>\n",
       "  <tbody>\n",
       "    <tr>\n",
       "      <th>Apple</th>\n",
       "      <td>0.076744</td>\n",
       "      <td>0.000000</td>\n",
       "      <td>0.000000</td>\n",
       "      <td>0.000000</td>\n",
       "      <td>0.000000</td>\n",
       "      <td>0.025581</td>\n",
       "      <td>0.027907</td>\n",
       "      <td>0.130233</td>\n",
       "    </tr>\n",
       "    <tr>\n",
       "      <th>Poco</th>\n",
       "      <td>0.000000</td>\n",
       "      <td>0.000000</td>\n",
       "      <td>0.053488</td>\n",
       "      <td>0.000000</td>\n",
       "      <td>0.076744</td>\n",
       "      <td>0.000000</td>\n",
       "      <td>0.000000</td>\n",
       "      <td>0.130233</td>\n",
       "    </tr>\n",
       "    <tr>\n",
       "      <th>Realme</th>\n",
       "      <td>0.000000</td>\n",
       "      <td>0.000000</td>\n",
       "      <td>0.211628</td>\n",
       "      <td>0.013953</td>\n",
       "      <td>0.095349</td>\n",
       "      <td>0.000000</td>\n",
       "      <td>0.000000</td>\n",
       "      <td>0.320930</td>\n",
       "    </tr>\n",
       "    <tr>\n",
       "      <th>Samsung</th>\n",
       "      <td>0.000000</td>\n",
       "      <td>0.123256</td>\n",
       "      <td>0.058140</td>\n",
       "      <td>0.006977</td>\n",
       "      <td>0.088372</td>\n",
       "      <td>0.000000</td>\n",
       "      <td>0.000000</td>\n",
       "      <td>0.276744</td>\n",
       "    </tr>\n",
       "    <tr>\n",
       "      <th>Xiaomi</th>\n",
       "      <td>0.000000</td>\n",
       "      <td>0.000000</td>\n",
       "      <td>0.011628</td>\n",
       "      <td>0.000000</td>\n",
       "      <td>0.130233</td>\n",
       "      <td>0.000000</td>\n",
       "      <td>0.000000</td>\n",
       "      <td>0.141860</td>\n",
       "    </tr>\n",
       "    <tr>\n",
       "      <th>All</th>\n",
       "      <td>0.076744</td>\n",
       "      <td>0.123256</td>\n",
       "      <td>0.334884</td>\n",
       "      <td>0.020930</td>\n",
       "      <td>0.390698</td>\n",
       "      <td>0.025581</td>\n",
       "      <td>0.027907</td>\n",
       "      <td>1.000000</td>\n",
       "    </tr>\n",
       "  </tbody>\n",
       "</table>\n",
       "</div>"
      ],
      "text/plain": [
       "processor   Ceramic    Exynos  MediaTek    Others  Qualcomm     Water  \\\n",
       "brand                                                                   \n",
       "Apple      0.076744  0.000000  0.000000  0.000000  0.000000  0.025581   \n",
       "Poco       0.000000  0.000000  0.053488  0.000000  0.076744  0.000000   \n",
       "Realme     0.000000  0.000000  0.211628  0.013953  0.095349  0.000000   \n",
       "Samsung    0.000000  0.123256  0.058140  0.006977  0.088372  0.000000   \n",
       "Xiaomi     0.000000  0.000000  0.011628  0.000000  0.130233  0.000000   \n",
       "All        0.076744  0.123256  0.334884  0.020930  0.390698  0.025581   \n",
       "\n",
       "processor       iOS       All  \n",
       "brand                          \n",
       "Apple      0.027907  0.130233  \n",
       "Poco       0.000000  0.130233  \n",
       "Realme     0.000000  0.320930  \n",
       "Samsung    0.000000  0.276744  \n",
       "Xiaomi     0.000000  0.141860  \n",
       "All        0.027907  1.000000  "
      ]
     },
     "execution_count": 35,
     "metadata": {},
     "output_type": "execute_result"
    }
   ],
   "source": [
    "pd.crosstab(df[\"brand\"],df[\"processor\"],margins=True,normalize=True)"
   ]
  },
  {
   "cell_type": "markdown",
   "id": "5faf77c6",
   "metadata": {},
   "source": [
    "From the above contigency table we can conclude that the 0.6977% of total population are Xiaomi brand with others processor and\n",
    "21.628% of total population are Realme brand with Media Tek processor."
   ]
  },
  {
   "cell_type": "code",
   "execution_count": 36,
   "id": "f8bb2918",
   "metadata": {},
   "outputs": [
    {
     "data": {
      "text/html": [
       "<div>\n",
       "<style scoped>\n",
       "    .dataframe tbody tr th:only-of-type {\n",
       "        vertical-align: middle;\n",
       "    }\n",
       "\n",
       "    .dataframe tbody tr th {\n",
       "        vertical-align: top;\n",
       "    }\n",
       "\n",
       "    .dataframe thead th {\n",
       "        text-align: right;\n",
       "    }\n",
       "</style>\n",
       "<table border=\"1\" class=\"dataframe\">\n",
       "  <thead>\n",
       "    <tr style=\"text-align: right;\">\n",
       "      <th></th>\n",
       "      <th>discount_percent</th>\n",
       "      <th>sales</th>\n",
       "    </tr>\n",
       "  </thead>\n",
       "  <tbody>\n",
       "    <tr>\n",
       "      <th>discount_percent</th>\n",
       "      <td>1.000000</td>\n",
       "      <td>0.155067</td>\n",
       "    </tr>\n",
       "    <tr>\n",
       "      <th>sales</th>\n",
       "      <td>0.155067</td>\n",
       "      <td>1.000000</td>\n",
       "    </tr>\n",
       "  </tbody>\n",
       "</table>\n",
       "</div>"
      ],
      "text/plain": [
       "                  discount_percent     sales\n",
       "discount_percent          1.000000  0.155067\n",
       "sales                     0.155067  1.000000"
      ]
     },
     "execution_count": 36,
     "metadata": {},
     "output_type": "execute_result"
    }
   ],
   "source": [
    "df[['discount_percent','sales']].corr()"
   ]
  },
  {
   "cell_type": "markdown",
   "id": "0cb2471b",
   "metadata": {},
   "source": [
    "The correlation between discount_percent and sales is 0.155067 which is weak positive, sales of mobile phone giving raise to claim."
   ]
  },
  {
   "cell_type": "code",
   "execution_count": 37,
   "id": "ebb24472",
   "metadata": {},
   "outputs": [
    {
     "data": {
      "text/plain": [
       "<AxesSubplot:>"
      ]
     },
     "execution_count": 37,
     "metadata": {},
     "output_type": "execute_result"
    },
    {
     "data": {
      "image/png": "[encoded data removed]",
      "text/plain": [
       "<Figure size 432x288 with 2 Axes>"
      ]
     },
     "metadata": {
      "needs_background": "light"
     },
     "output_type": "display_data"
    }
   ],
   "source": [
    "df1=df.select_dtypes(exclude='object')\n",
    "sns.heatmap(df1.corr(),annot=True)"
   ]
  },
  {
   "cell_type": "markdown",
   "id": "714f0385",
   "metadata": {},
   "source": [
    "From the above heat map we conclude that the highest correlation is between number of ratings and sales. Also sales_price and battery_capacity has weak correlation(negative correlation) that is customer prefer mobile phones with higher battery capacity.\n",
    "\n",
    "The average sales of mobile phones with respect to battery_capacity and sales_price by the E-commerce company influences the sales which gives raise to claim. "
   ]
  },
  {
   "cell_type": "code",
   "execution_count": 75,
   "id": "61a08108",
   "metadata": {},
   "outputs": [],
   "source": [
    "df2=df.brand.value_counts()"
   ]
  },
  {
   "cell_type": "code",
   "execution_count": 74,
   "id": "9b2d230e",
   "metadata": {},
   "outputs": [
    {
     "data": {
      "image/png": "[encoded data removed]",
      "text/plain": [
       "<Figure size 432x288 with 1 Axes>"
      ]
     },
     "metadata": {
      "needs_background": "light"
     },
     "output_type": "display_data"
    }
   ],
   "source": [
    "plt.bar(df2.index,df2,color=['black','g','yellow','r','b'])\n",
    "plt.xlabel('brand')\n",
    "plt.ylabel('Count')\n",
    "plt.title('brand Distribution')\n",
    "counts=[df2[0],df2[1],df2[2],df2[3],df2[4]]\n",
    "for i,v in enumerate(counts):\n",
    "    plt.annotate(str(v),(i,v))"
   ]
  },
  {
   "cell_type": "markdown",
   "id": "159907cd",
   "metadata": {},
   "source": [
    " From the above plot we conclude that the Realme has the hightest count that is the customers prefers to buy Realme brand than the other brands Samsung, Xiaomi brand, Apple and Poco."
   ]
  },
  {
   "cell_type": "code",
   "execution_count": 81,
   "id": "ee0e0662",
   "metadata": {},
   "outputs": [
    {
     "data": {
      "text/plain": [
       "<AxesSubplot:xlabel='display_size', ylabel='count'>"
      ]
     },
     "execution_count": 81,
     "metadata": {},
     "output_type": "execute_result"
    },
    {
     "data": {
      "image/png": "[encoded data removed]",
      "text/plain": [
       "<Figure size 576x360 with 1 Axes>"
      ]
     },
     "metadata": {
      "needs_background": "light"
     },
     "output_type": "display_data"
    }
   ],
   "source": [
    "plt.figure(figsize=(8,5))\n",
    "sns.countplot(x='display_size',data=df,hue='screen_size')"
   ]
  },
  {
   "cell_type": "markdown",
   "id": "80cce5b9",
   "metadata": {},
   "source": [
    "From the above plot we conclude that most of the sales of mobile phone with large screen of 6.5 inch of display is preferred by the customers. And customer do not prefer very small screen_size in Apple brand with display of 4.7 inches."
   ]
  },
  {
   "cell_type": "code",
   "execution_count": 42,
   "id": "886c651e",
   "metadata": {},
   "outputs": [
    {
     "data": {
      "text/plain": [
       "<AxesSubplot:xlabel='RAM', ylabel='count'>"
      ]
     },
     "execution_count": 42,
     "metadata": {},
     "output_type": "execute_result"
    },
    {
     "data": {
      "image/png": "[encoded data removed]",
      "text/plain": [
       "<Figure size 576x360 with 1 Axes>"
      ]
     },
     "metadata": {
      "needs_background": "light"
     },
     "output_type": "display_data"
    }
   ],
   "source": [
    "plt.figure(figsize=(8,5))\n",
    "sns.countplot(x='RAM',data=df,hue='ROM')"
   ]
  },
  {
   "cell_type": "markdown",
   "id": "77125f3e",
   "metadata": {},
   "source": [
    "From the above plot we can conclude that customer prefer to purchase mobile phones with ROM of 128GB and RAM of 4GB."
   ]
  },
  {
   "cell_type": "code",
   "execution_count": 43,
   "id": "97dd321b",
   "metadata": {},
   "outputs": [
    {
     "data": {
      "text/plain": [
       "<AxesSubplot:xlabel='num_rear_camera', ylabel='count'>"
      ]
     },
     "execution_count": 43,
     "metadata": {},
     "output_type": "execute_result"
    },
    {
     "data": {
      "image/png": "[encoded data removed]",
      "text/plain": [
       "<Figure size 576x360 with 1 Axes>"
      ]
     },
     "metadata": {
      "needs_background": "light"
     },
     "output_type": "display_data"
    }
   ],
   "source": [
    "plt.figure(figsize=(8,5))\n",
    "sns.countplot(x='num_rear_camera',data=df,hue='num_front_camera')"
   ]
  },
  {
   "cell_type": "markdown",
   "id": "5d70a90c",
   "metadata": {},
   "source": [
    "From the above plot we can conclude that customers prefer mobile phones with 3 number of rear cameras and mobile phones of 1 front camera."
   ]
  },
  {
   "cell_type": "code",
   "execution_count": 44,
   "id": "00af2622",
   "metadata": {},
   "outputs": [
    {
     "data": {
      "text/plain": [
       "<AxesSubplot:xlabel='ratings', ylabel='count'>"
      ]
     },
     "execution_count": 44,
     "metadata": {},
     "output_type": "execute_result"
    },
    {
     "data": {
      "image/png": "[encoded data removed]",
      "text/plain": [
       "<Figure size 576x360 with 1 Axes>"
      ]
     },
     "metadata": {
      "needs_background": "light"
     },
     "output_type": "display_data"
    }
   ],
   "source": [
    "plt.figure(figsize=(8,5))\n",
    "sns.countplot(x='ratings',data=df,hue='brand')"
   ]
  },
  {
   "cell_type": "markdown",
   "id": "7c2162c2",
   "metadata": {},
   "source": [
    "From the above plot we can conclude that the customers have given 4.3 ratings to Realme brand of mobile phone and 3.0 rating to Samsung brand. Hence the E-commerce company can claim that customers prefer Realme brand atmost of the sales by giving 4.3 and also Apple brand mobile phone by giving the highest rating as 4.6."
   ]
  },
  {
   "cell_type": "code",
   "execution_count": 102,
   "id": "6ca489cd",
   "metadata": {},
   "outputs": [
    {
     "data": {
      "text/plain": [
       "<AxesSubplot:xlabel='battery_capacity', ylabel='Count'>"
      ]
     },
     "execution_count": 102,
     "metadata": {},
     "output_type": "execute_result"
    },
    {
     "data": {
      "image/png": "[encoded data removed]",
      "text/plain": [
       "<Figure size 432x288 with 1 Axes>"
      ]
     },
     "metadata": {
      "needs_background": "light"
     },
     "output_type": "display_data"
    }
   ],
   "source": [
    "sns.histplot(x='battery_capacity',data=df,kde=True)"
   ]
  },
  {
   "cell_type": "markdown",
   "id": "ee0a0689",
   "metadata": {},
   "source": [
    "From the above plot we conclude that the customers prefer mobile phone sales with highest battery capacity in between 4000 to 5000 capability. And the distribution of battery capacity is approximately normal."
   ]
  },
  {
   "cell_type": "code",
   "execution_count": 203,
   "id": "682c06ae",
   "metadata": {},
   "outputs": [
    {
     "data": {
      "text/plain": [
       "<AxesSubplot:xlabel='discount_percent', ylabel='Count'>"
      ]
     },
     "execution_count": 203,
     "metadata": {},
     "output_type": "execute_result"
    },
    {
     "data": {
      "image/png": "[encoded data removed]",
      "text/plain": [
       "<Figure size 432x288 with 1 Axes>"
      ]
     },
     "metadata": {
      "needs_background": "light"
     },
     "output_type": "display_data"
    }
   ],
   "source": [
    "sns.histplot(x='discount_percent',data=df,kde=True)"
   ]
  },
  {
   "cell_type": "markdown",
   "id": "65b06193",
   "metadata": {},
   "source": [
    "From the above plot we conclude that the customers purchased the mobile phones at 0.1 percent of discount given by the E-commerce company and for the other discount percent the sales has been gradually dropped."
   ]
  },
  {
   "cell_type": "markdown",
   "id": "679bfffa",
   "metadata": {},
   "source": [
    "# 1. To verify brand is influenced by the sales_price of mobile phones @5% level of significance."
   ]
  },
  {
   "cell_type": "markdown",
   "id": "b330ee45",
   "metadata": {},
   "source": [
    "# Test the assumption:\n",
    "\n",
    "1. Normality test\n",
    "2. Variance test"
   ]
  },
  {
   "cell_type": "code",
   "execution_count": 15,
   "id": "9df78da0",
   "metadata": {},
   "outputs": [],
   "source": [
    "R=df[df.brand=='Realme']['sales_price']\n",
    "S=df[df.brand=='Samsung']['sales_price']\n",
    "X=df[df.brand=='Xiaomi']['sales_price']\n",
    "A=df[df.brand=='Apple']['sales_price']\n",
    "P=df[df.brand=='Poco']['sales_price']"
   ]
  },
  {
   "cell_type": "markdown",
   "id": "9a6e0bde",
   "metadata": {},
   "source": [
    "H0: The sales_price of mobile phone brand follows normal\n",
    "\n",
    "H1: The sales_price of mobile phone brand do not follows normal"
   ]
  },
  {
   "cell_type": "code",
   "execution_count": 166,
   "id": "c86f8e49",
   "metadata": {},
   "outputs": [
    {
     "data": {
      "text/plain": [
       "ShapiroResult(statistic=0.6885092258453369, pvalue=9.88010464017346e-16)"
      ]
     },
     "execution_count": 166,
     "metadata": {},
     "output_type": "execute_result"
    }
   ],
   "source": [
    "st.shapiro(R)       "
   ]
  },
  {
   "cell_type": "markdown",
   "id": "ce79ffcd",
   "metadata": {},
   "source": [
    "Since p-value(9.88010464017346e-16) < alpha value(0.05),we reject H0, the sales_price of mobile phone brand do not follows normal. \n",
    "\n",
    "hence normality test fails we can proceed for non-parametric test"
   ]
  },
  {
   "cell_type": "markdown",
   "id": "fa83aa94",
   "metadata": {},
   "source": [
    "H0:The population variance for brand is equal to population variance of sales_price.\n",
    "    \n",
    "H1:The population variance for brand is not equal to population variance of sales_price.    \n",
    "    "
   ]
  },
  {
   "cell_type": "code",
   "execution_count": 167,
   "id": "78fef710",
   "metadata": {},
   "outputs": [
    {
     "data": {
      "text/plain": [
       "LeveneResult(statistic=8.79312886924167, pvalue=7.917601526069105e-07)"
      ]
     },
     "execution_count": 167,
     "metadata": {},
     "output_type": "execute_result"
    }
   ],
   "source": [
    "st.levene(R,S,X,A,P)"
   ]
  },
  {
   "cell_type": "markdown",
   "id": "cd826084",
   "metadata": {},
   "source": [
    "Since p-value(7.917601526069105e-07) is < alpha value(0.05), we reject Ho. The population variance for brand is not equal to population variance of sales_price.\n",
    "\n",
    "variance equality test fails we can proceed for non-parametric test and the brand with respect to sales_price is not following normal we cannot proceed for ANOVA we can go for non-parametric test.\n",
    "\n",
    "Therefore the test of assumptions fails we can proceed for non-parametric test."
   ]
  },
  {
   "cell_type": "markdown",
   "id": "42bf9d1b",
   "metadata": {},
   "source": [
    "# Kruskal wallis test:\n",
    "\n",
    "H0: The population median sales_price for all the brand is same.\n",
    "\n",
    "H1: The population median sales_price for atleast two brands will be different.\n",
    "\n"
   ]
  },
  {
   "cell_type": "code",
   "execution_count": 168,
   "id": "e987da25",
   "metadata": {},
   "outputs": [
    {
     "data": {
      "text/plain": [
       "KruskalResult(statistic=79.50086652837908, pvalue=2.2219711239158913e-16)"
      ]
     },
     "execution_count": 168,
     "metadata": {},
     "output_type": "execute_result"
    }
   ],
   "source": [
    "st.kruskal(R,S,X,A,P)"
   ]
  },
  {
   "cell_type": "markdown",
   "id": "90b8168c",
   "metadata": {},
   "source": [
    "# Inference:\n",
    "\n",
    "Since pvalue (2.2219711239158913e-16)< alpha value (0.05)--- reject our H0.\n",
    " \n",
    " We conclude that the population median sales_price for atleast two brands will be different.\n",
    " \n",
    " Hence brand is influenced by the sales_price of mobile phone.\n",
    " "
   ]
  },
  {
   "cell_type": "markdown",
   "id": "6b12960f",
   "metadata": {},
   "source": [
    "# 2. The company claims that the number of ratings of mobile phone impacts the sales verify at 5% level of significance.\n"
   ]
  },
  {
   "cell_type": "code",
   "execution_count": 208,
   "id": "0b211d71",
   "metadata": {},
   "outputs": [
    {
     "data": {
      "text/html": [
       "<div>\n",
       "<style scoped>\n",
       "    .dataframe tbody tr th:only-of-type {\n",
       "        vertical-align: middle;\n",
       "    }\n",
       "\n",
       "    .dataframe tbody tr th {\n",
       "        vertical-align: top;\n",
       "    }\n",
       "\n",
       "    .dataframe thead th {\n",
       "        text-align: right;\n",
       "    }\n",
       "</style>\n",
       "<table border=\"1\" class=\"dataframe\">\n",
       "  <thead>\n",
       "    <tr style=\"text-align: right;\">\n",
       "      <th></th>\n",
       "      <th>count</th>\n",
       "      <th>mean</th>\n",
       "      <th>std</th>\n",
       "      <th>min</th>\n",
       "      <th>25%</th>\n",
       "      <th>50%</th>\n",
       "      <th>75%</th>\n",
       "      <th>max</th>\n",
       "    </tr>\n",
       "    <tr>\n",
       "      <th>num_of_ratings</th>\n",
       "      <th></th>\n",
       "      <th></th>\n",
       "      <th></th>\n",
       "      <th></th>\n",
       "      <th></th>\n",
       "      <th></th>\n",
       "      <th></th>\n",
       "      <th></th>\n",
       "    </tr>\n",
       "  </thead>\n",
       "  <tbody>\n",
       "    <tr>\n",
       "      <th>4</th>\n",
       "      <td>3.0</td>\n",
       "      <td>0.000000</td>\n",
       "      <td>0.000000</td>\n",
       "      <td>0.0</td>\n",
       "      <td>0.0</td>\n",
       "      <td>0.0</td>\n",
       "      <td>0.0</td>\n",
       "      <td>0.0</td>\n",
       "    </tr>\n",
       "    <tr>\n",
       "      <th>6</th>\n",
       "      <td>2.0</td>\n",
       "      <td>0.000000</td>\n",
       "      <td>0.000000</td>\n",
       "      <td>0.0</td>\n",
       "      <td>0.0</td>\n",
       "      <td>0.0</td>\n",
       "      <td>0.0</td>\n",
       "      <td>0.0</td>\n",
       "    </tr>\n",
       "    <tr>\n",
       "      <th>7</th>\n",
       "      <td>6.0</td>\n",
       "      <td>0.000000</td>\n",
       "      <td>0.000000</td>\n",
       "      <td>0.0</td>\n",
       "      <td>0.0</td>\n",
       "      <td>0.0</td>\n",
       "      <td>0.0</td>\n",
       "      <td>0.0</td>\n",
       "    </tr>\n",
       "    <tr>\n",
       "      <th>8</th>\n",
       "      <td>4.0</td>\n",
       "      <td>0.000000</td>\n",
       "      <td>0.000000</td>\n",
       "      <td>0.0</td>\n",
       "      <td>0.0</td>\n",
       "      <td>0.0</td>\n",
       "      <td>0.0</td>\n",
       "      <td>0.0</td>\n",
       "    </tr>\n",
       "    <tr>\n",
       "      <th>10</th>\n",
       "      <td>1.0</td>\n",
       "      <td>0.000000</td>\n",
       "      <td>NaN</td>\n",
       "      <td>0.0</td>\n",
       "      <td>0.0</td>\n",
       "      <td>0.0</td>\n",
       "      <td>0.0</td>\n",
       "      <td>0.0</td>\n",
       "    </tr>\n",
       "    <tr>\n",
       "      <th>...</th>\n",
       "      <td>...</td>\n",
       "      <td>...</td>\n",
       "      <td>...</td>\n",
       "      <td>...</td>\n",
       "      <td>...</td>\n",
       "      <td>...</td>\n",
       "      <td>...</td>\n",
       "      <td>...</td>\n",
       "    </tr>\n",
       "    <tr>\n",
       "      <th>226996</th>\n",
       "      <td>3.0</td>\n",
       "      <td>150.666667</td>\n",
       "      <td>6.350853</td>\n",
       "      <td>147.0</td>\n",
       "      <td>147.0</td>\n",
       "      <td>147.0</td>\n",
       "      <td>152.5</td>\n",
       "      <td>158.0</td>\n",
       "    </tr>\n",
       "    <tr>\n",
       "      <th>267028</th>\n",
       "      <td>1.0</td>\n",
       "      <td>427.000000</td>\n",
       "      <td>NaN</td>\n",
       "      <td>427.0</td>\n",
       "      <td>427.0</td>\n",
       "      <td>427.0</td>\n",
       "      <td>427.0</td>\n",
       "      <td>427.0</td>\n",
       "    </tr>\n",
       "    <tr>\n",
       "      <th>357064</th>\n",
       "      <td>1.0</td>\n",
       "      <td>392.000000</td>\n",
       "      <td>NaN</td>\n",
       "      <td>392.0</td>\n",
       "      <td>392.0</td>\n",
       "      <td>392.0</td>\n",
       "      <td>392.0</td>\n",
       "      <td>392.0</td>\n",
       "    </tr>\n",
       "    <tr>\n",
       "      <th>470905</th>\n",
       "      <td>1.0</td>\n",
       "      <td>493.000000</td>\n",
       "      <td>NaN</td>\n",
       "      <td>493.0</td>\n",
       "      <td>493.0</td>\n",
       "      <td>493.0</td>\n",
       "      <td>493.0</td>\n",
       "      <td>493.0</td>\n",
       "    </tr>\n",
       "    <tr>\n",
       "      <th>642373</th>\n",
       "      <td>1.0</td>\n",
       "      <td>550.000000</td>\n",
       "      <td>NaN</td>\n",
       "      <td>550.0</td>\n",
       "      <td>550.0</td>\n",
       "      <td>550.0</td>\n",
       "      <td>550.0</td>\n",
       "      <td>550.0</td>\n",
       "    </tr>\n",
       "  </tbody>\n",
       "</table>\n",
       "<p>175 rows × 8 columns</p>\n",
       "</div>"
      ],
      "text/plain": [
       "                count        mean       std    min    25%    50%    75%    max\n",
       "num_of_ratings                                                                \n",
       "4                 3.0    0.000000  0.000000    0.0    0.0    0.0    0.0    0.0\n",
       "6                 2.0    0.000000  0.000000    0.0    0.0    0.0    0.0    0.0\n",
       "7                 6.0    0.000000  0.000000    0.0    0.0    0.0    0.0    0.0\n",
       "8                 4.0    0.000000  0.000000    0.0    0.0    0.0    0.0    0.0\n",
       "10                1.0    0.000000       NaN    0.0    0.0    0.0    0.0    0.0\n",
       "...               ...         ...       ...    ...    ...    ...    ...    ...\n",
       "226996            3.0  150.666667  6.350853  147.0  147.0  147.0  152.5  158.0\n",
       "267028            1.0  427.000000       NaN  427.0  427.0  427.0  427.0  427.0\n",
       "357064            1.0  392.000000       NaN  392.0  392.0  392.0  392.0  392.0\n",
       "470905            1.0  493.000000       NaN  493.0  493.0  493.0  493.0  493.0\n",
       "642373            1.0  550.000000       NaN  550.0  550.0  550.0  550.0  550.0\n",
       "\n",
       "[175 rows x 8 columns]"
      ]
     },
     "execution_count": 208,
     "metadata": {},
     "output_type": "execute_result"
    }
   ],
   "source": [
    "df.groupby('num_of_ratings')['sales'].describe()"
   ]
  },
  {
   "cell_type": "markdown",
   "id": "6b436103",
   "metadata": {},
   "source": [
    "# Test the assumption:\n",
    "\n",
    "1. Normality test\n",
    "2. Variance test"
   ]
  },
  {
   "cell_type": "code",
   "execution_count": 169,
   "id": "840c89f5",
   "metadata": {},
   "outputs": [],
   "source": [
    "Num_r=df['num_of_ratings']\n",
    "Sales=df['sales']"
   ]
  },
  {
   "cell_type": "markdown",
   "id": "d283535f",
   "metadata": {},
   "source": [
    "H0: The number of ratings for sales follows normal\n",
    "\n",
    "H1: The number of ratings for sales do not follow normal"
   ]
  },
  {
   "cell_type": "code",
   "execution_count": 170,
   "id": "5a5a5e09",
   "metadata": {},
   "outputs": [
    {
     "data": {
      "text/plain": [
       "ShapiroResult(statistic=0.4306541681289673, pvalue=1.183964338632939e-34)"
      ]
     },
     "execution_count": 170,
     "metadata": {},
     "output_type": "execute_result"
    }
   ],
   "source": [
    "st.shapiro(Num_r)"
   ]
  },
  {
   "cell_type": "markdown",
   "id": "d7d61d16",
   "metadata": {},
   "source": [
    "since p value < alpha value(0.05) -we reject H0.\n",
    "\n",
    "The number of ratings for sales do not follow normal."
   ]
  },
  {
   "cell_type": "markdown",
   "id": "dfba42b2",
   "metadata": {},
   "source": [
    "H0:The population variance for number of ratings is equal to population variance of sales.\n",
    "    \n",
    "H1:The population variance for number of ratings is not equal to population variance of sales.    \n",
    "    "
   ]
  },
  {
   "cell_type": "code",
   "execution_count": 171,
   "id": "6fe3a2f2",
   "metadata": {},
   "outputs": [
    {
     "data": {
      "text/plain": [
       "LeveneResult(statistic=71.16070360564967, pvalue=1.3873449338146834e-16)"
      ]
     },
     "execution_count": 171,
     "metadata": {},
     "output_type": "execute_result"
    }
   ],
   "source": [
    "st.levene(Num_r,Sales)"
   ]
  },
  {
   "cell_type": "markdown",
   "id": "2e128fd2",
   "metadata": {},
   "source": [
    "since p value < alpha value(0.05) -we reject H0.\n",
    "\n",
    "The population variance for number of ratings is not equal to population variance of sales."
   ]
  },
  {
   "cell_type": "markdown",
   "id": "66fcd68b",
   "metadata": {},
   "source": [
    "Therefore the test of assumptions fails we can proceed for non-parametric test."
   ]
  },
  {
   "cell_type": "markdown",
   "id": "5734a77a",
   "metadata": {},
   "source": [
    "# Mann Whitney-U test:"
   ]
  },
  {
   "cell_type": "markdown",
   "id": "882c5717",
   "metadata": {},
   "source": [
    "H0:The population median of number of ratings and sales is same\n",
    "    \n",
    "H1:The population median of number of ratings and sales is different"
   ]
  },
  {
   "cell_type": "code",
   "execution_count": 172,
   "id": "a5b0bcfb",
   "metadata": {},
   "outputs": [
    {
     "data": {
      "text/plain": [
       "MannwhitneyuResult(statistic=178360.5, pvalue=4.078995262030491e-123)"
      ]
     },
     "execution_count": 172,
     "metadata": {},
     "output_type": "execute_result"
    }
   ],
   "source": [
    "st.mannwhitneyu(Num_r,Sales)"
   ]
  },
  {
   "cell_type": "markdown",
   "id": "35b85edc",
   "metadata": {},
   "source": [
    "# Inference:\n",
    "\n",
    "Since p-value < alpha value(0.05)-- we reject our Ho.\n",
    "\n",
    "We conclude that the population median of number of ratings and sales is different.\n",
    "\n",
    "Hence number of ratings of mobile phone impacts the company sales."
   ]
  },
  {
   "cell_type": "markdown",
   "id": "d353d9c4",
   "metadata": {},
   "source": [
    "# 3. To verify that the sales of mobile phone is influenced by brand or processor or both @5% level of significance."
   ]
  },
  {
   "cell_type": "markdown",
   "id": "e3d88a60",
   "metadata": {},
   "source": [
    "# Test the assumption:\n",
    "\n",
    "1. Normality test\n",
    "2. Variance test"
   ]
  },
  {
   "cell_type": "code",
   "execution_count": 173,
   "id": "173b4d87",
   "metadata": {},
   "outputs": [],
   "source": [
    "R=df[df.brand=='Realme']['sales']\n",
    "S=df[df.brand=='Samsung']['sales']\n",
    "X=df[df.brand=='Xiaomi']['sales']\n",
    "A=df[df.brand=='Apple']['sales']\n",
    "P=df[df.brand=='Poco']['sales']"
   ]
  },
  {
   "cell_type": "markdown",
   "id": "c544128c",
   "metadata": {},
   "source": [
    "H0: The sales of mobile phone brand follows normal\n",
    "\n",
    "H1: The sales of mobile phone brand do not follow normal"
   ]
  },
  {
   "cell_type": "code",
   "execution_count": 174,
   "id": "a2bfe987",
   "metadata": {},
   "outputs": [
    {
     "data": {
      "text/plain": [
       "ShapiroResult(statistic=0.6885092258453369, pvalue=9.88010464017346e-16)"
      ]
     },
     "execution_count": 174,
     "metadata": {},
     "output_type": "execute_result"
    }
   ],
   "source": [
    "st.shapiro(R)"
   ]
  },
  {
   "cell_type": "markdown",
   "id": "64bbf8b2",
   "metadata": {},
   "source": [
    "Since p-value(9.88010464017346e-16) < alpha value(0.05),we reject H0, the sales of mobile phone brand do not follows normal. \n",
    "\n",
    "hence normality test fails we can proceed for non-parametric test"
   ]
  },
  {
   "cell_type": "markdown",
   "id": "9653aa91",
   "metadata": {},
   "source": [
    "H0:The population variance for brand is equal to population variance of sales.\n",
    "    \n",
    "H1:The population variance for brand is not equal to population variance of sales.    \n",
    "    "
   ]
  },
  {
   "cell_type": "code",
   "execution_count": 175,
   "id": "5b68a2a6",
   "metadata": {},
   "outputs": [
    {
     "data": {
      "text/plain": [
       "LeveneResult(statistic=8.79312886924167, pvalue=7.917601526069105e-07)"
      ]
     },
     "execution_count": 175,
     "metadata": {},
     "output_type": "execute_result"
    }
   ],
   "source": [
    "st.levene(R,S,X,A,P)"
   ]
  },
  {
   "cell_type": "markdown",
   "id": "09918fb1",
   "metadata": {},
   "source": [
    "Since p-value(7.917601526069105e-07) is < alpha value(0.05), we reject Ho.\n",
    "\n",
    "The population variance for brand is not equal to population variance of sales."
   ]
  },
  {
   "cell_type": "code",
   "execution_count": 176,
   "id": "e4a5358c",
   "metadata": {},
   "outputs": [],
   "source": [
    "q=df[df.processor=='Qualcomm']['sales']\n",
    "m=df[df.processor=='MediaTek']['sales']\n",
    "e=df[df.processor=='Exynos']['sales']\n",
    "c=df[df.processor=='Ceramic']['sales']\n",
    "i=df[df.processor=='iOS']['sales']\n",
    "w=df[df.processor=='Water']['sales']\n",
    "o=df[df.processor=='Others']['sales']"
   ]
  },
  {
   "cell_type": "markdown",
   "id": "bd5b70c2",
   "metadata": {},
   "source": [
    "H0: The sales of mobile phone processor follows normal\n",
    "\n",
    "H1: The sales of mobile phone processor do not follow normal"
   ]
  },
  {
   "cell_type": "code",
   "execution_count": 177,
   "id": "0610175a",
   "metadata": {},
   "outputs": [
    {
     "data": {
      "text/plain": [
       "ShapiroResult(statistic=0.46470290422439575, pvalue=2.596572146463218e-22)"
      ]
     },
     "execution_count": 177,
     "metadata": {},
     "output_type": "execute_result"
    }
   ],
   "source": [
    "st.shapiro(q)"
   ]
  },
  {
   "cell_type": "markdown",
   "id": "5533d2cd",
   "metadata": {},
   "source": [
    "Since p-value(2.596572146463218e-22) < alpha value(0.05),we reject H0, the sales of mobile phone processor do not follows normal. \n",
    "\n",
    "hence normality test fails we can proceed for non-parametric test"
   ]
  },
  {
   "cell_type": "markdown",
   "id": "85474ea0",
   "metadata": {},
   "source": [
    "H0:The population variance for processor is equal to population variance of sales.\n",
    "    \n",
    "H1:The population variance for processor is not equal to population variance of sales.    \n",
    "    "
   ]
  },
  {
   "cell_type": "code",
   "execution_count": 178,
   "id": "ce834722",
   "metadata": {},
   "outputs": [
    {
     "data": {
      "text/plain": [
       "LeveneResult(statistic=2.2013596478747597, pvalue=0.04197832182200595)"
      ]
     },
     "execution_count": 178,
     "metadata": {},
     "output_type": "execute_result"
    }
   ],
   "source": [
    "st.levene(q,m,e,c,i,w,o)"
   ]
  },
  {
   "cell_type": "markdown",
   "id": "7fac9a2a",
   "metadata": {},
   "source": [
    "Since p-value(0.04197832182200595) < alpha value(0.05),we reject H0\n",
    "\n",
    "The population variance for processor is not equal to population variance of sales."
   ]
  },
  {
   "cell_type": "markdown",
   "id": "9d13e650",
   "metadata": {},
   "source": [
    "Therefore the test of assumptions fails we can proceed for non-parametric test."
   ]
  },
  {
   "cell_type": "code",
   "execution_count": 179,
   "id": "4de05596",
   "metadata": {},
   "outputs": [],
   "source": [
    "from statsmodels.formula.api import ols\n",
    "from statsmodels.stats.anova import anova_lm"
   ]
  },
  {
   "cell_type": "markdown",
   "id": "e1933a00",
   "metadata": {},
   "source": [
    "Brand or column\n",
    "\n",
    "H0: The population mean sales is same for all the brands\n",
    "\n",
    "H1: The population mean sales is different for atleast two brands\n",
    "    \n",
    "\n",
    "Processor or row:\n",
    "    \n",
    "H0: The population mean sales is same for all the processor\n",
    "    \n",
    "H1: The population mean sales is different for all the processor"
   ]
  },
  {
   "cell_type": "code",
   "execution_count": 180,
   "id": "cd04cff8",
   "metadata": {},
   "outputs": [
    {
     "data": {
      "text/html": [
       "<div>\n",
       "<style scoped>\n",
       "    .dataframe tbody tr th:only-of-type {\n",
       "        vertical-align: middle;\n",
       "    }\n",
       "\n",
       "    .dataframe tbody tr th {\n",
       "        vertical-align: top;\n",
       "    }\n",
       "\n",
       "    .dataframe thead th {\n",
       "        text-align: right;\n",
       "    }\n",
       "</style>\n",
       "<table border=\"1\" class=\"dataframe\">\n",
       "  <thead>\n",
       "    <tr style=\"text-align: right;\">\n",
       "      <th></th>\n",
       "      <th>df</th>\n",
       "      <th>sum_sq</th>\n",
       "      <th>mean_sq</th>\n",
       "      <th>F</th>\n",
       "      <th>PR(&gt;F)</th>\n",
       "    </tr>\n",
       "  </thead>\n",
       "  <tbody>\n",
       "    <tr>\n",
       "      <th>df.brand</th>\n",
       "      <td>4.0</td>\n",
       "      <td>1.183761e+05</td>\n",
       "      <td>29594.017279</td>\n",
       "      <td>9.515294</td>\n",
       "      <td>2.261515e-07</td>\n",
       "    </tr>\n",
       "    <tr>\n",
       "      <th>df.processor</th>\n",
       "      <td>6.0</td>\n",
       "      <td>3.865224e+04</td>\n",
       "      <td>6442.040440</td>\n",
       "      <td>2.071294</td>\n",
       "      <td>5.548973e-02</td>\n",
       "    </tr>\n",
       "    <tr>\n",
       "      <th>Residual</th>\n",
       "      <td>420.0</td>\n",
       "      <td>1.306264e+06</td>\n",
       "      <td>3110.152763</td>\n",
       "      <td>NaN</td>\n",
       "      <td>NaN</td>\n",
       "    </tr>\n",
       "  </tbody>\n",
       "</table>\n",
       "</div>"
      ],
      "text/plain": [
       "                 df        sum_sq       mean_sq         F        PR(>F)\n",
       "df.brand        4.0  1.183761e+05  29594.017279  9.515294  2.261515e-07\n",
       "df.processor    6.0  3.865224e+04   6442.040440  2.071294  5.548973e-02\n",
       "Residual      420.0  1.306264e+06   3110.152763       NaN           NaN"
      ]
     },
     "execution_count": 180,
     "metadata": {},
     "output_type": "execute_result"
    }
   ],
   "source": [
    "model1=ols('df.sales~df.brand+df.processor',data=df).fit()\n",
    "anova_table=anova_lm(model1)\n",
    "anova_table"
   ]
  },
  {
   "cell_type": "markdown",
   "id": "9aa1964f",
   "metadata": {},
   "source": [
    "# Inference:\n",
    "\n",
    "since p value for brand < alpha value (0.05) -- reject H0 \n",
    "hence we can conclude that the sales is impacted by brand.\n",
    "\n",
    "since  p value for processor < alpha value (0.05) -- reject H0\n",
    "hence we conclude that sales is impacted by processor."
   ]
  },
  {
   "cell_type": "markdown",
   "id": "e4074dd6",
   "metadata": {},
   "source": [
    " Hence the sales of mobile phones is influenced by both brand and processor."
   ]
  },
  {
   "cell_type": "markdown",
   "id": "cce65c95",
   "metadata": {},
   "source": [
    "# 4. The company claims that the battery_capacity impact the sales. Verify at 5% level of significance."
   ]
  },
  {
   "cell_type": "markdown",
   "id": "20463d1c",
   "metadata": {},
   "source": [
    "# Test the assumption:\n",
    "\n",
    "1. Normality test\n",
    "2. Variance test"
   ]
  },
  {
   "cell_type": "code",
   "execution_count": 181,
   "id": "88f0d5e3",
   "metadata": {},
   "outputs": [],
   "source": [
    "battery=df['battery_capacity']\n",
    "s=df['sales']"
   ]
  },
  {
   "cell_type": "markdown",
   "id": "e6434b0b",
   "metadata": {},
   "source": [
    "H0: The battery capacity of mobile phone sales follows normal\n",
    "\n",
    "H1: The battery capacity of mobile phone sales do not follows normal"
   ]
  },
  {
   "cell_type": "code",
   "execution_count": 182,
   "id": "f0d509e5",
   "metadata": {},
   "outputs": [
    {
     "data": {
      "text/plain": [
       "ShapiroResult(statistic=0.9377903938293457, pvalue=2.0103974908425304e-12)"
      ]
     },
     "execution_count": 182,
     "metadata": {},
     "output_type": "execute_result"
    }
   ],
   "source": [
    "st.shapiro(battery)"
   ]
  },
  {
   "cell_type": "markdown",
   "id": "1c9aaaca",
   "metadata": {},
   "source": [
    "since p value < alpha value(0.05) -we reject H0.\n",
    "\n",
    "The battery capacity of mobile phone sales do not follow normal."
   ]
  },
  {
   "cell_type": "markdown",
   "id": "ff2b8829",
   "metadata": {},
   "source": [
    "H0:The population variance for battery capacity is equal to population variance of sales.\n",
    "    \n",
    "H1:The population variance for battery capacity is not equal to population variance of sales.    \n",
    "    "
   ]
  },
  {
   "cell_type": "code",
   "execution_count": 183,
   "id": "9df064fb",
   "metadata": {},
   "outputs": [
    {
     "data": {
      "text/plain": [
       "LeveneResult(statistic=606.130618706371, pvalue=1.1433184098452964e-101)"
      ]
     },
     "execution_count": 183,
     "metadata": {},
     "output_type": "execute_result"
    }
   ],
   "source": [
    "st.levene(battery,s)"
   ]
  },
  {
   "cell_type": "markdown",
   "id": "9fe2b966",
   "metadata": {},
   "source": [
    "since p value < alpha value(0.05) -we reject H0.\n",
    "\n",
    "The population variance for battery capacity is not equal to population variance of sales."
   ]
  },
  {
   "cell_type": "markdown",
   "id": "117fe3b0",
   "metadata": {},
   "source": [
    "Therefore the test of assumptions fails we can proceed for non-parametric test."
   ]
  },
  {
   "cell_type": "markdown",
   "id": "5b958c97",
   "metadata": {},
   "source": [
    "# Mann Whitney-U test:"
   ]
  },
  {
   "cell_type": "markdown",
   "id": "13d2573f",
   "metadata": {},
   "source": [
    "H0:The population median of battery_capacity and sales is same\n",
    "    \n",
    "H1:The population median of battery_capacity and sales is different"
   ]
  },
  {
   "cell_type": "code",
   "execution_count": 184,
   "id": "40e12cce",
   "metadata": {},
   "outputs": [
    {
     "data": {
      "text/plain": [
       "MannwhitneyuResult(statistic=184900.0, pvalue=8.174656764103867e-143)"
      ]
     },
     "execution_count": 184,
     "metadata": {},
     "output_type": "execute_result"
    }
   ],
   "source": [
    "st.mannwhitneyu(battery,s)"
   ]
  },
  {
   "cell_type": "markdown",
   "id": "17ba79aa",
   "metadata": {},
   "source": [
    "# Inference:\n",
    "\n",
    "Since p-value < alpha value(0.05)-- we reject our Ho.\n",
    "\n",
    "We conclude that the population median of battery_capacity and sales is different.\n",
    "\n",
    "Hence battery capacity of mobile phone impacts the company sales."
   ]
  },
  {
   "cell_type": "markdown",
   "id": "4b15781b",
   "metadata": {},
   "source": [
    "# 5. The company claims that the RAM of mobile phones affects the sales. Verify at 5% level of significance."
   ]
  },
  {
   "cell_type": "markdown",
   "id": "053faa39",
   "metadata": {},
   "source": [
    "# Test the assumption:\n",
    "\n",
    "1. Normality test\n",
    "2. Variance test"
   ]
  },
  {
   "cell_type": "code",
   "execution_count": 185,
   "id": "0be96c04",
   "metadata": {},
   "outputs": [],
   "source": [
    "ram=df['RAM']\n",
    "s=df['sales']"
   ]
  },
  {
   "cell_type": "markdown",
   "id": "e97523be",
   "metadata": {},
   "source": [
    "H0: The sales of RAM of mobile phone follows normal\n",
    "\n",
    "H1: The sales of RAM of mobile phone do not follows normal"
   ]
  },
  {
   "cell_type": "code",
   "execution_count": 186,
   "id": "59a2aa0e",
   "metadata": {},
   "outputs": [
    {
     "data": {
      "text/plain": [
       "ShapiroResult(statistic=0.8942855000495911, pvalue=1.1788262082567525e-16)"
      ]
     },
     "execution_count": 186,
     "metadata": {},
     "output_type": "execute_result"
    }
   ],
   "source": [
    "st.shapiro(ram)"
   ]
  },
  {
   "cell_type": "markdown",
   "id": "3e5ad0e2",
   "metadata": {},
   "source": [
    "since p value < alpha value(0.05) -we reject H0.\n",
    "\n",
    "The sales of RAM of mobile phone do not follows normal"
   ]
  },
  {
   "cell_type": "markdown",
   "id": "f40a92fd",
   "metadata": {},
   "source": [
    "H0:The population variance for RAM of mobile phone is equal to population variance of sales.\n",
    "    \n",
    "H1:The population variance for RAM of mobile phone is not equal to population variance of sales.    \n",
    "    "
   ]
  },
  {
   "cell_type": "code",
   "execution_count": 187,
   "id": "3de438ca",
   "metadata": {},
   "outputs": [
    {
     "data": {
      "text/plain": [
       "LeveneResult(statistic=88.29242444137071, pvalue=4.971760487354301e-20)"
      ]
     },
     "execution_count": 187,
     "metadata": {},
     "output_type": "execute_result"
    }
   ],
   "source": [
    "st.levene(ram,s)"
   ]
  },
  {
   "cell_type": "markdown",
   "id": "f0e62b40",
   "metadata": {},
   "source": [
    "since p value < alpha value(0.05) -we reject H0.\n",
    "\n",
    "The population variance for RAM of mobile phone is not equal to population variance of sales."
   ]
  },
  {
   "cell_type": "markdown",
   "id": "d8d6a9d8",
   "metadata": {},
   "source": [
    "Therefore the test of assumptions fails we can proceed for non-parametric test."
   ]
  },
  {
   "cell_type": "markdown",
   "id": "eef43955",
   "metadata": {},
   "source": [
    "# Mann Whitney-U test:"
   ]
  },
  {
   "cell_type": "markdown",
   "id": "11e5c4cd",
   "metadata": {},
   "source": [
    "H0:The population median of RAM of mobile phone and sales is same\n",
    "    \n",
    "H1:The population median of RAM of mobile phone and sales is different"
   ]
  },
  {
   "cell_type": "code",
   "execution_count": 188,
   "id": "24709ddc",
   "metadata": {},
   "outputs": [
    {
     "data": {
      "text/plain": [
       "MannwhitneyuResult(statistic=75567.5, pvalue=3.127559586436253e-06)"
      ]
     },
     "execution_count": 188,
     "metadata": {},
     "output_type": "execute_result"
    }
   ],
   "source": [
    "st.mannwhitneyu(ram,s)"
   ]
  },
  {
   "cell_type": "markdown",
   "id": "6e6078c6",
   "metadata": {},
   "source": [
    "# Inference:\n",
    "\n",
    "Since p-value < alpha value(0.05)-- we reject our Ho.\n",
    "\n",
    "We conclude that the population median of RAM of mobile phone and sales is different.\n",
    "\n",
    "Hence RAM of mobile phone affects the company sales."
   ]
  },
  {
   "cell_type": "markdown",
   "id": "aa5ef39c",
   "metadata": {},
   "source": [
    "# 6. The company claims that the ROM of mobile phones affects the sales. Verify at 5% level of significance."
   ]
  },
  {
   "cell_type": "markdown",
   "id": "60add83d",
   "metadata": {},
   "source": [
    "# Test the assumption:\n",
    "\n",
    "1. Normality test\n",
    "2. Variance test"
   ]
  },
  {
   "cell_type": "code",
   "execution_count": 189,
   "id": "2aecd4f0",
   "metadata": {},
   "outputs": [],
   "source": [
    "rom=df['ROM']\n",
    "s=df['sales']"
   ]
  },
  {
   "cell_type": "markdown",
   "id": "2193e08f",
   "metadata": {},
   "source": [
    "H0: The sales of ROM of mobile phone follows normal\n",
    "\n",
    "H1: The sales of RAM of mobile phone do not follows normal"
   ]
  },
  {
   "cell_type": "code",
   "execution_count": 190,
   "id": "7b662824",
   "metadata": {},
   "outputs": [
    {
     "data": {
      "text/plain": [
       "ShapiroResult(statistic=0.792663037776947, pvalue=5.073076129054942e-23)"
      ]
     },
     "execution_count": 190,
     "metadata": {},
     "output_type": "execute_result"
    }
   ],
   "source": [
    "st.shapiro(rom)"
   ]
  },
  {
   "cell_type": "markdown",
   "id": "fb7a2d87",
   "metadata": {},
   "source": [
    "since p value < alpha value(0.05) -we reject H0.\n",
    "\n",
    "The sales of ROM of mobile phone do not follows normal"
   ]
  },
  {
   "cell_type": "markdown",
   "id": "265bab8b",
   "metadata": {},
   "source": [
    "H0:The population variance for ROM of mobile phone is equal to population variance of sales.\n",
    "    \n",
    "H1:The population variance for ROM of mobile phone is not equal to population variance of sales.    \n",
    "    "
   ]
  },
  {
   "cell_type": "code",
   "execution_count": 191,
   "id": "b2114700",
   "metadata": {},
   "outputs": [
    {
     "data": {
      "text/plain": [
       "LeveneResult(statistic=30.797801237711575, pvalue=3.816826811067443e-08)"
      ]
     },
     "execution_count": 191,
     "metadata": {},
     "output_type": "execute_result"
    }
   ],
   "source": [
    "st.levene(rom,s)"
   ]
  },
  {
   "cell_type": "markdown",
   "id": "51aa0997",
   "metadata": {},
   "source": [
    "since p value < alpha value(0.05) -we reject H0.\n",
    "\n",
    "The population variance for ROM of mobile phone is not equal to population variance of sales."
   ]
  },
  {
   "cell_type": "markdown",
   "id": "9312fd7a",
   "metadata": {},
   "source": [
    "Therefore the test of assumptions fails we can proceed for non-parametric test."
   ]
  },
  {
   "cell_type": "markdown",
   "id": "31d10ff8",
   "metadata": {},
   "source": [
    "# Mann Whitney-U test:"
   ]
  },
  {
   "cell_type": "markdown",
   "id": "ab720fa6",
   "metadata": {},
   "source": [
    "H0:The population median of ROM of mobile phone and sales is same\n",
    "    \n",
    "H1:The population median of ROM of mobile phone and sales is different"
   ]
  },
  {
   "cell_type": "code",
   "execution_count": 192,
   "id": "bfdb5507",
   "metadata": {},
   "outputs": [
    {
     "data": {
      "text/plain": [
       "MannwhitneyuResult(statistic=166099.5, pvalue=2.0787257509688317e-92)"
      ]
     },
     "execution_count": 192,
     "metadata": {},
     "output_type": "execute_result"
    }
   ],
   "source": [
    "st.mannwhitneyu(rom,s)"
   ]
  },
  {
   "cell_type": "markdown",
   "id": "033d6ebe",
   "metadata": {},
   "source": [
    "# Inference:\n",
    "\n",
    "Since p-value < alpha value(0.05)-- we reject our Ho.\n",
    "\n",
    "We conclude that the population median of ROM of mobile phone and sales is different.\n",
    "\n",
    "Hence ROM of mobile phone affects the company sales."
   ]
  },
  {
   "cell_type": "markdown",
   "id": "5d1948bf",
   "metadata": {},
   "source": [
    "# 7. To verify discount_percent affects the sales of mobile phones @5% level of significance."
   ]
  },
  {
   "cell_type": "markdown",
   "id": "4d21a949",
   "metadata": {},
   "source": [
    "# Test the assumption:\n",
    "\n",
    "1. Normality test\n",
    "2. Variance test"
   ]
  },
  {
   "cell_type": "code",
   "execution_count": 204,
   "id": "0aa0e69f",
   "metadata": {},
   "outputs": [],
   "source": [
    "dis=df['discount_percent']\n",
    "s=df['sales']"
   ]
  },
  {
   "cell_type": "markdown",
   "id": "326fed80",
   "metadata": {},
   "source": [
    "H0: The sales of mobile phone with discount percent follows normal\n",
    "\n",
    "H1: The sales of mobile phone with discount percent do not follows normal"
   ]
  },
  {
   "cell_type": "code",
   "execution_count": 205,
   "id": "8dddcc42",
   "metadata": {},
   "outputs": [
    {
     "data": {
      "text/plain": [
       "ShapiroResult(statistic=0.8992107510566711, pvalue=3.0219488580073266e-16)"
      ]
     },
     "execution_count": 205,
     "metadata": {},
     "output_type": "execute_result"
    }
   ],
   "source": [
    "st.shapiro(dis)"
   ]
  },
  {
   "cell_type": "markdown",
   "id": "402c228f",
   "metadata": {},
   "source": [
    "since p value < alpha(0.05) -we reject H0.\n",
    "\n",
    "The sales of mobile phone with discount percent do not follows normal"
   ]
  },
  {
   "cell_type": "markdown",
   "id": "34525b3b",
   "metadata": {},
   "source": [
    "H0:The population variance for discount percent of mobile phone is equal to population variance of sales.\n",
    "    \n",
    "H1:The population variance for discount percent of mobile phone is not equal to population variance of sales.    \n",
    "    "
   ]
  },
  {
   "cell_type": "code",
   "execution_count": 206,
   "id": "c329bb29",
   "metadata": {},
   "outputs": [
    {
     "data": {
      "text/plain": [
       "LeveneResult(statistic=101.23565551328487, pvalue=1.3780762128656168e-22)"
      ]
     },
     "execution_count": 206,
     "metadata": {},
     "output_type": "execute_result"
    }
   ],
   "source": [
    "st.levene(dis,s)"
   ]
  },
  {
   "cell_type": "markdown",
   "id": "79dbbdfd",
   "metadata": {},
   "source": [
    "since p value < alpha(0.05) -we reject H0.\n",
    "\n",
    "The population variance for discount percent of mobile phone is not equal to population variance of sales."
   ]
  },
  {
   "cell_type": "markdown",
   "id": "13392a7f",
   "metadata": {},
   "source": [
    "Therefore the test of assumptions fails we can proceed for non-parametric test."
   ]
  },
  {
   "cell_type": "markdown",
   "id": "94d05c3e",
   "metadata": {},
   "source": [
    "# Mann Whitney-U test:"
   ]
  },
  {
   "cell_type": "markdown",
   "id": "4fc27c75",
   "metadata": {},
   "source": [
    "H0:The population median of discount percent of mobile phone and sales is same\n",
    "    \n",
    "H1:The population median of discount percent of mobile phone and sales is different"
   ]
  },
  {
   "cell_type": "code",
   "execution_count": 207,
   "id": "71abec79",
   "metadata": {},
   "outputs": [
    {
     "data": {
      "text/plain": [
       "MannwhitneyuResult(statistic=33110.0, pvalue=9.448804347084936e-60)"
      ]
     },
     "execution_count": 207,
     "metadata": {},
     "output_type": "execute_result"
    }
   ],
   "source": [
    "st.mannwhitneyu(dis,s)"
   ]
  },
  {
   "cell_type": "markdown",
   "id": "d9dd441b",
   "metadata": {},
   "source": [
    "# Inference:\n",
    "\n",
    "Since p-value < alpha value(0.05)-- we reject our Ho.\n",
    "\n",
    "We conclude that The population median of discount percent of mobile phone and sales is different\n",
    "\n",
    "Hence discount percent affects the sales of mobile phones."
   ]
  },
  {
   "cell_type": "markdown",
   "id": "fbcc6ceb",
   "metadata": {},
   "source": [
    "# 8. To verify base_color affects the sales of mobile phones @5% level of significance."
   ]
  },
  {
   "cell_type": "code",
   "execution_count": 197,
   "id": "d0ba4b52",
   "metadata": {},
   "outputs": [
    {
     "data": {
      "text/html": [
       "<div>\n",
       "<style scoped>\n",
       "    .dataframe tbody tr th:only-of-type {\n",
       "        vertical-align: middle;\n",
       "    }\n",
       "\n",
       "    .dataframe tbody tr th {\n",
       "        vertical-align: top;\n",
       "    }\n",
       "\n",
       "    .dataframe thead th {\n",
       "        text-align: right;\n",
       "    }\n",
       "</style>\n",
       "<table border=\"1\" class=\"dataframe\">\n",
       "  <thead>\n",
       "    <tr style=\"text-align: right;\">\n",
       "      <th></th>\n",
       "      <th>count</th>\n",
       "      <th>mean</th>\n",
       "      <th>std</th>\n",
       "      <th>min</th>\n",
       "      <th>25%</th>\n",
       "      <th>50%</th>\n",
       "      <th>75%</th>\n",
       "      <th>max</th>\n",
       "    </tr>\n",
       "    <tr>\n",
       "      <th>base_color</th>\n",
       "      <th></th>\n",
       "      <th></th>\n",
       "      <th></th>\n",
       "      <th></th>\n",
       "      <th></th>\n",
       "      <th></th>\n",
       "      <th></th>\n",
       "      <th></th>\n",
       "    </tr>\n",
       "  </thead>\n",
       "  <tbody>\n",
       "    <tr>\n",
       "      <th>Black</th>\n",
       "      <td>112.0</td>\n",
       "      <td>32.616071</td>\n",
       "      <td>71.320018</td>\n",
       "      <td>0.0</td>\n",
       "      <td>1.00</td>\n",
       "      <td>7.0</td>\n",
       "      <td>25.00</td>\n",
       "      <td>493.0</td>\n",
       "    </tr>\n",
       "    <tr>\n",
       "      <th>Blue</th>\n",
       "      <td>117.0</td>\n",
       "      <td>25.940171</td>\n",
       "      <td>39.029452</td>\n",
       "      <td>0.0</td>\n",
       "      <td>2.00</td>\n",
       "      <td>11.0</td>\n",
       "      <td>30.00</td>\n",
       "      <td>204.0</td>\n",
       "    </tr>\n",
       "    <tr>\n",
       "      <th>Bronze</th>\n",
       "      <td>5.0</td>\n",
       "      <td>6.000000</td>\n",
       "      <td>8.396428</td>\n",
       "      <td>0.0</td>\n",
       "      <td>0.00</td>\n",
       "      <td>1.0</td>\n",
       "      <td>10.00</td>\n",
       "      <td>19.0</td>\n",
       "    </tr>\n",
       "    <tr>\n",
       "      <th>Gold</th>\n",
       "      <td>11.0</td>\n",
       "      <td>99.000000</td>\n",
       "      <td>162.906108</td>\n",
       "      <td>0.0</td>\n",
       "      <td>2.50</td>\n",
       "      <td>31.0</td>\n",
       "      <td>134.50</td>\n",
       "      <td>550.0</td>\n",
       "    </tr>\n",
       "    <tr>\n",
       "      <th>Gray</th>\n",
       "      <td>20.0</td>\n",
       "      <td>20.450000</td>\n",
       "      <td>39.637137</td>\n",
       "      <td>0.0</td>\n",
       "      <td>0.00</td>\n",
       "      <td>5.0</td>\n",
       "      <td>17.75</td>\n",
       "      <td>167.0</td>\n",
       "    </tr>\n",
       "    <tr>\n",
       "      <th>Green</th>\n",
       "      <td>24.0</td>\n",
       "      <td>29.625000</td>\n",
       "      <td>43.057911</td>\n",
       "      <td>0.0</td>\n",
       "      <td>1.00</td>\n",
       "      <td>14.5</td>\n",
       "      <td>34.00</td>\n",
       "      <td>167.0</td>\n",
       "    </tr>\n",
       "    <tr>\n",
       "      <th>Others</th>\n",
       "      <td>28.0</td>\n",
       "      <td>22.500000</td>\n",
       "      <td>21.507105</td>\n",
       "      <td>0.0</td>\n",
       "      <td>3.00</td>\n",
       "      <td>20.0</td>\n",
       "      <td>33.50</td>\n",
       "      <td>79.0</td>\n",
       "    </tr>\n",
       "    <tr>\n",
       "      <th>Purple</th>\n",
       "      <td>5.0</td>\n",
       "      <td>2.800000</td>\n",
       "      <td>2.049390</td>\n",
       "      <td>1.0</td>\n",
       "      <td>1.00</td>\n",
       "      <td>2.0</td>\n",
       "      <td>5.00</td>\n",
       "      <td>5.0</td>\n",
       "    </tr>\n",
       "    <tr>\n",
       "      <th>Red</th>\n",
       "      <td>21.0</td>\n",
       "      <td>48.047619</td>\n",
       "      <td>97.577393</td>\n",
       "      <td>0.0</td>\n",
       "      <td>1.00</td>\n",
       "      <td>5.0</td>\n",
       "      <td>42.00</td>\n",
       "      <td>427.0</td>\n",
       "    </tr>\n",
       "    <tr>\n",
       "      <th>Silver</th>\n",
       "      <td>32.0</td>\n",
       "      <td>25.625000</td>\n",
       "      <td>40.545275</td>\n",
       "      <td>0.0</td>\n",
       "      <td>3.75</td>\n",
       "      <td>10.5</td>\n",
       "      <td>22.75</td>\n",
       "      <td>142.0</td>\n",
       "    </tr>\n",
       "    <tr>\n",
       "      <th>White</th>\n",
       "      <td>44.0</td>\n",
       "      <td>22.272727</td>\n",
       "      <td>33.588733</td>\n",
       "      <td>0.0</td>\n",
       "      <td>0.00</td>\n",
       "      <td>5.0</td>\n",
       "      <td>25.75</td>\n",
       "      <td>127.0</td>\n",
       "    </tr>\n",
       "    <tr>\n",
       "      <th>Yellow</th>\n",
       "      <td>11.0</td>\n",
       "      <td>19.181818</td>\n",
       "      <td>17.331002</td>\n",
       "      <td>0.0</td>\n",
       "      <td>4.50</td>\n",
       "      <td>18.0</td>\n",
       "      <td>25.00</td>\n",
       "      <td>51.0</td>\n",
       "    </tr>\n",
       "  </tbody>\n",
       "</table>\n",
       "</div>"
      ],
      "text/plain": [
       "            count       mean         std  min   25%   50%     75%    max\n",
       "base_color                                                              \n",
       "Black       112.0  32.616071   71.320018  0.0  1.00   7.0   25.00  493.0\n",
       "Blue        117.0  25.940171   39.029452  0.0  2.00  11.0   30.00  204.0\n",
       "Bronze        5.0   6.000000    8.396428  0.0  0.00   1.0   10.00   19.0\n",
       "Gold         11.0  99.000000  162.906108  0.0  2.50  31.0  134.50  550.0\n",
       "Gray         20.0  20.450000   39.637137  0.0  0.00   5.0   17.75  167.0\n",
       "Green        24.0  29.625000   43.057911  0.0  1.00  14.5   34.00  167.0\n",
       "Others       28.0  22.500000   21.507105  0.0  3.00  20.0   33.50   79.0\n",
       "Purple        5.0   2.800000    2.049390  1.0  1.00   2.0    5.00    5.0\n",
       "Red          21.0  48.047619   97.577393  0.0  1.00   5.0   42.00  427.0\n",
       "Silver       32.0  25.625000   40.545275  0.0  3.75  10.5   22.75  142.0\n",
       "White        44.0  22.272727   33.588733  0.0  0.00   5.0   25.75  127.0\n",
       "Yellow       11.0  19.181818   17.331002  0.0  4.50  18.0   25.00   51.0"
      ]
     },
     "execution_count": 197,
     "metadata": {},
     "output_type": "execute_result"
    }
   ],
   "source": [
    "df.groupby('base_color')['sales'].describe()"
   ]
  },
  {
   "cell_type": "code",
   "execution_count": 198,
   "id": "8c5eb991",
   "metadata": {},
   "outputs": [],
   "source": [
    "bk=df[df.base_color=='Black']['sales']\n",
    "bu=df[df.base_color=='Blue']['sales']\n",
    "br=df[df.base_color=='Bronze']['sales']\n",
    "go=df[df.base_color=='Gold']['sales']\n",
    "gr=df[df.base_color=='Grey']['sales']\n",
    "grn=df[df.base_color=='Green']['sales']\n",
    "o=df[df.base_color=='Others']['sales']\n",
    "p=df[df.base_color=='Purple']['sales']\n",
    "r=df[df.base_color=='Red']['sales']\n",
    "s=df[df.base_color=='Silver']['sales']\n",
    "w=df[df.base_color=='White']['sales']\n",
    "y=df[df.base_color=='Yellow']['sales']"
   ]
  },
  {
   "cell_type": "markdown",
   "id": "21d1e15f",
   "metadata": {},
   "source": [
    "# Test the assumption:\n",
    "\n",
    "1. Normality test\n",
    "2. Variance test"
   ]
  },
  {
   "cell_type": "markdown",
   "id": "cb35bc37",
   "metadata": {},
   "source": [
    "H0: The sales of mobile phone with base color follows normal\n",
    "\n",
    "H1: The sales of mobile phone with base color do not follows normal"
   ]
  },
  {
   "cell_type": "code",
   "execution_count": 199,
   "id": "f4477597",
   "metadata": {},
   "outputs": [
    {
     "data": {
      "text/plain": [
       "ShapiroResult(statistic=0.4880584478378296, pvalue=5.219019974286973e-18)"
      ]
     },
     "execution_count": 199,
     "metadata": {},
     "output_type": "execute_result"
    }
   ],
   "source": [
    "st.shapiro(bk)"
   ]
  },
  {
   "cell_type": "markdown",
   "id": "fb955c2f",
   "metadata": {},
   "source": [
    "since p value < alpha(0.05) -we reject H0.\n",
    "\n",
    "The sales of mobile phone with base color do not follows normal"
   ]
  },
  {
   "cell_type": "markdown",
   "id": "718a2153",
   "metadata": {},
   "source": [
    "H0:The population variance for base color of mobile phone is equal to population variance of sales.\n",
    "    \n",
    "H1:The population variance for base color of mobile phone is not equal to population variance of sales.    \n",
    "    "
   ]
  },
  {
   "cell_type": "code",
   "execution_count": 200,
   "id": "d0336ae7",
   "metadata": {},
   "outputs": [
    {
     "data": {
      "text/plain": [
       "LeveneResult(statistic=4.655051577193954, pvalue=0.0034976807548154454)"
      ]
     },
     "execution_count": 200,
     "metadata": {},
     "output_type": "execute_result"
    }
   ],
   "source": [
    "st.levene(bk,bu,br,go)"
   ]
  },
  {
   "cell_type": "markdown",
   "id": "d358927a",
   "metadata": {},
   "source": [
    "since p value < alpha(0.05) -we reject H0.\n",
    "\n",
    "The population variance for base color of mobile phone is not equal to population variance of sales."
   ]
  },
  {
   "cell_type": "markdown",
   "id": "b1150dea",
   "metadata": {},
   "source": [
    "Therefore the test of assumptions fails we can proceed for non-parametric test."
   ]
  },
  {
   "cell_type": "markdown",
   "id": "2d80818a",
   "metadata": {},
   "source": [
    "# Kruskal wallis test:"
   ]
  },
  {
   "cell_type": "code",
   "execution_count": 201,
   "id": "38d2f442",
   "metadata": {},
   "outputs": [],
   "source": [
    "from statsmodels.formula.api import ols\n",
    "from statsmodels.stats.anova import anova_lm"
   ]
  },
  {
   "cell_type": "markdown",
   "id": "bd316abe",
   "metadata": {},
   "source": [
    "H0: The population median base color for all the mobile phone sales is same.\n",
    "\n",
    "H1: The population median base color for atleast two mobile phone sales will be different.\n"
   ]
  },
  {
   "cell_type": "code",
   "execution_count": 202,
   "id": "09d4e501",
   "metadata": {},
   "outputs": [
    {
     "data": {
      "text/html": [
       "<div>\n",
       "<style scoped>\n",
       "    .dataframe tbody tr th:only-of-type {\n",
       "        vertical-align: middle;\n",
       "    }\n",
       "\n",
       "    .dataframe tbody tr th {\n",
       "        vertical-align: top;\n",
       "    }\n",
       "\n",
       "    .dataframe thead th {\n",
       "        text-align: right;\n",
       "    }\n",
       "</style>\n",
       "<table border=\"1\" class=\"dataframe\">\n",
       "  <thead>\n",
       "    <tr style=\"text-align: right;\">\n",
       "      <th></th>\n",
       "      <th>df</th>\n",
       "      <th>sum_sq</th>\n",
       "      <th>mean_sq</th>\n",
       "      <th>F</th>\n",
       "      <th>PR(&gt;F)</th>\n",
       "    </tr>\n",
       "  </thead>\n",
       "  <tbody>\n",
       "    <tr>\n",
       "      <th>base_color</th>\n",
       "      <td>11.0</td>\n",
       "      <td>7.619269e+04</td>\n",
       "      <td>6926.607989</td>\n",
       "      <td>2.090669</td>\n",
       "      <td>0.019946</td>\n",
       "    </tr>\n",
       "    <tr>\n",
       "      <th>Residual</th>\n",
       "      <td>418.0</td>\n",
       "      <td>1.384878e+06</td>\n",
       "      <td>3313.105893</td>\n",
       "      <td>NaN</td>\n",
       "      <td>NaN</td>\n",
       "    </tr>\n",
       "  </tbody>\n",
       "</table>\n",
       "</div>"
      ],
      "text/plain": [
       "               df        sum_sq      mean_sq         F    PR(>F)\n",
       "base_color   11.0  7.619269e+04  6926.607989  2.090669  0.019946\n",
       "Residual    418.0  1.384878e+06  3313.105893       NaN       NaN"
      ]
     },
     "execution_count": 202,
     "metadata": {},
     "output_type": "execute_result"
    }
   ],
   "source": [
    "model=ols('sales~base_color',data=df).fit()\n",
    "anova_table_df=anova_lm(model)\n",
    "anova_table_df"
   ]
  },
  {
   "cell_type": "markdown",
   "id": "591f3590",
   "metadata": {},
   "source": [
    "# Inference:\n",
    "\n",
    "since p value < alpha value(0.05)-- reject H0\n",
    "\n",
    "We conclude that the population median base color for atleast two mobile phone sales is different\n",
    "\n",
    "Hence base color affects the sales of mobile phone."
   ]
  },
  {
   "cell_type": "markdown",
   "id": "18ef52d4",
   "metadata": {},
   "source": [
    "# OVERALL INFERENCE:"
   ]
  },
  {
   "cell_type": "markdown",
   "id": "c39c054b",
   "metadata": {},
   "source": [
    "From the above statistical hypothesis testing we conclude that there are many factors that influenced the sales of mobile phone in E-commerce company:\n",
    "\n",
    "1) Brand\n",
    "\n",
    "2) Num_of rating\n",
    "\n",
    "3) Processor\n",
    "\n",
    "4) Battery capacity\n",
    "\n",
    "5) RAM\n",
    "\n",
    "6) ROM\n",
    "\n",
    "7) Discount percent\n",
    "\n",
    "8) base color\n",
    "\n",
    "This proved that there is a significant effect of product features, brand, and perceived price on sales of mobile phone brand and social influences(rating) has an significant impact on sales of mobile phones.\n",
    "\n",
    "Therefore number of ratings given by the customers affects most of the sales of mobile phones and also battery capacity affects the sales of the E-commerce company.  "
   ]
  },
  {
   "cell_type": "code",
   "execution_count": null,
   "id": "ee13dac9",
   "metadata": {},
   "outputs": [],
   "source": []
  }
 ],
 "metadata": {
  "kernelspec": {
   "display_name": "Python 3 (ipykernel)",
   "language": "python",
   "name": "python3"
  },
  "language_info": {
   "codemirror_mode": {
    "name": "ipython",
    "version": 3
   },
   "file_extension": ".py",
   "mimetype": "text/x-python",
   "name": "python",
   "nbconvert_exporter": "python",
   "pygments_lexer": "ipython3",
   "version": "3.9.12"
  }
 },
 "nbformat": 4,
 "nbformat_minor": 5
}
